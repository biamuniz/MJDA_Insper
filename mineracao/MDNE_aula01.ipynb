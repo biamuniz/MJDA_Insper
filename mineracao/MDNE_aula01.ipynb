{
  "nbformat": 4,
  "nbformat_minor": 0,
  "metadata": {
    "colab": {
      "name": "Cópia de MDNE_aula01.ipynb",
      "provenance": [],
      "collapsed_sections": []
    },
    "kernelspec": {
      "name": "python3",
      "display_name": "Python 3"
    },
    "language_info": {
      "name": "python"
    }
  },
  "cells": [
    {
      "cell_type": "markdown",
      "metadata": {
        "id": "sn0g8ksZerus"
      },
      "source": [
        "Instalando a biblioteca"
      ]
    },
    {
      "cell_type": "code",
      "metadata": {
        "id": "6WLjxnhxesEt"
      },
      "source": [
        "!git clone --depth=1 https://github.com/twintproject/twint.git\n",
        "!cd /content/twint && pip3 install . -r requirements.txt"
      ],
      "execution_count": null,
      "outputs": []
    },
    {
      "cell_type": "markdown",
      "metadata": {
        "id": "mm08jLhUh7XU"
      },
      "source": [
        "Fazendo a conexao pra salvar o arquivo no google drive"
      ]
    },
    {
      "cell_type": "code",
      "metadata": {
        "id": "L0PXZB_EgKv3"
      },
      "source": [
        "from google.colab import drive\n",
        "drive.mount('/content/drive')"
      ],
      "execution_count": null,
      "outputs": []
    },
    {
      "cell_type": "markdown",
      "metadata": {
        "id": "1O5cv5FQenLa"
      },
      "source": [
        "Exemplo"
      ]
    },
    {
      "cell_type": "code",
      "metadata": {
        "id": "EE-DvoAkeo-y"
      },
      "source": [
        "import twint\n",
        "import nest_asyncio\n",
        "nest_asyncio.apply()\n",
        "import time\n",
        "\n",
        "import os\n",
        "\n",
        "timestr = time.strftime(\"%Y%m%d\")\n",
        "\n",
        "c = twint.Config()\n",
        "c.Limit = 8\n",
        "c.Store_csv = True\n",
        "c.Search = \"NFT arte\"\n",
        "text_file = \"/content/drive/My Drive/breque.csv\"\n",
        "c.Output = text_file\n",
        "twint.run.Search(c)"
      ],
      "execution_count": null,
      "outputs": []
    },
    {
      "cell_type": "markdown",
      "metadata": {
        "id": "Y0P_etNmpDrh"
      },
      "source": [
        "Fazendo uma nuvem de palavras\n"
      ]
    },
    {
      "cell_type": "code",
      "metadata": {
        "id": "kCot8Aa7pGAP"
      },
      "source": [
        "!pip install wordcloud\n",
        "!pip install pandas"
      ],
      "execution_count": null,
      "outputs": []
    },
    {
      "cell_type": "markdown",
      "metadata": {
        "id": "K61bITjopj1q"
      },
      "source": [
        "Instalando mais bibliotecas que sao requisitos\n"
      ]
    },
    {
      "cell_type": "code",
      "metadata": {
        "id": "a4ExgETUptU_"
      },
      "source": [
        "from os import path\n",
        "from PIL import Image\n",
        "import numpy as np\n",
        "import matplotlib.pyplot as plt\n",
        "from wordcloud import WordCloud, STOPWORDS\n",
        "import pandas"
      ],
      "execution_count": null,
      "outputs": []
    },
    {
      "cell_type": "markdown",
      "metadata": {
        "id": "XGsQdO2lqpG9"
      },
      "source": [
        "create wordcloud"
      ]
    },
    {
      "cell_type": "markdown",
      "metadata": {
        "id": "yiIuzp6tp0rU"
      },
      "source": [
        "Apenas o texto dos Tuites\n",
        "\n"
      ]
    },
    {
      "cell_type": "code",
      "metadata": {
        "id": "8T6CFvahp1qD"
      },
      "source": [
        "df = pandas.read_csv(text_file, delimiter=',')\n",
        "df['tweet']"
      ],
      "execution_count": null,
      "outputs": []
    },
    {
      "cell_type": "code",
      "metadata": {
        "id": "2TXHPuyvp83E"
      },
      "source": [
        "  #junta todos tuites numa string\n",
        "  tuites = ''\n",
        "  for index, row in df.iterrows():\n",
        "    tuites = tuites + row['tweet']\n",
        "    \n",
        "  #monta a nuvem de palavras\n",
        "  wordcloud = WordCloud().generate(tuites)\n",
        "  plt.imshow(wordcloud, interpolation='bilinear')\n",
        "  plt.axis(\"off\")"
      ],
      "execution_count": null,
      "outputs": []
    }
  ]
}
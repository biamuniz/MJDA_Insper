{
  "nbformat": 4,
  "nbformat_minor": 0,
  "metadata": {
    "colab": {
      "name": "Número de Gols por Partida no Campeonato Brasileiro.ipynb",
      "provenance": [],
      "collapsed_sections": []
    },
    "kernelspec": {
      "name": "python3",
      "display_name": "Python 3"
    },
    "language_info": {
      "name": "python"
    }
  },
  "cells": [
    {
      "cell_type": "markdown",
      "metadata": {
        "id": "nu-BJjpkZ5j-"
      },
      "source": [
        "## **Atividade - Número de Gols por Partida no Campeonato Brasileiro**\n",
        "**Disciplina**: Machine Learning aplicado ao Jornalismo\n",
        "\n",
        "**Alunos**: Bianca Muniz e Vinicius Marques\n",
        "\n",
        "\n",
        "---\n",
        "\n",
        "\n",
        "**Proposta:** A partir da base de dados do campeonato brasileiro de futebol construir um modelo com a previsão do número total de gols por partida. \n",
        "\n",
        "Apresentar os resultados com os seguintes itens:\n",
        "- Análise descritiva dos dados\n",
        "- Construção do modelo de regressão linear\n",
        "- Interpretação do sinal e magnitude dos parâmetros\n",
        "- Análise de erros\n",
        "- Apresentação da previsão do número de gols para a próxima rodada, com comentários.\n",
        "- Quais jogos terão mais gols?\n",
        "- Base de dados: https://drive.google.com/drive/folders/1CPkwSCMz12g8tlIeq083n_FHPCRBwcPd?usp=sharing\n",
        "- Entrega por email até o dia 18/11\n",
        "Qualquer dúvida entrar em contato com o professor.\n"
      ]
    },
    {
      "cell_type": "code",
      "metadata": {
        "id": "-_vLan4Hjswx"
      },
      "source": [
        "import pandas as pd\n",
        "import numpy as np\n",
        "import statistics #para o cálculo da moda"
      ],
      "execution_count": 34,
      "outputs": []
    },
    {
      "cell_type": "code",
      "metadata": {
        "id": "xEuaj3J8lBZq"
      },
      "source": [
        "base_gols = pd.read_csv('base_gols.csv',sep=',', encoding='utf-8', decimal=\",\")"
      ],
      "execution_count": 35,
      "outputs": []
    },
    {
      "cell_type": "code",
      "metadata": {
        "colab": {
          "base_uri": "https://localhost:8080/"
        },
        "id": "RVw9lYsXae6U",
        "outputId": "61940379-bc66-47e1-b83a-532f2d2ff37e"
      },
      "source": [
        "list(base_gols.columns) #listando as colunas da base"
      ],
      "execution_count": 36,
      "outputs": [
        {
          "output_type": "execute_result",
          "data": {
            "text/plain": [
              "['Ano',\n",
              " 'Rodada',\n",
              " 'Data',\n",
              " 'Mandante',\n",
              " 'Visitante',\n",
              " 'Gol.Mandante',\n",
              " 'Gol.Visitante',\n",
              " 'Total Gols',\n",
              " 'GP_m_20',\n",
              " 'GP_v_20',\n",
              " 'GC_m_20',\n",
              " 'GC_v_20',\n",
              " 'ShotsP_m_20',\n",
              " 'ShotsP_v_20',\n",
              " 'Elo_Dif_Abs']"
            ]
          },
          "metadata": {},
          "execution_count": 36
        }
      ]
    },
    {
      "cell_type": "code",
      "metadata": {
        "id": "Cb19-pjWoers",
        "colab": {
          "base_uri": "https://localhost:8080/",
          "height": 310
        },
        "outputId": "9d70d298-e5af-44c2-e642-fdf8d832054a"
      },
      "source": [
        "base_gols.head(5)"
      ],
      "execution_count": 39,
      "outputs": [
        {
          "output_type": "execute_result",
          "data": {
            "text/html": [
              "<div>\n",
              "<style scoped>\n",
              "    .dataframe tbody tr th:only-of-type {\n",
              "        vertical-align: middle;\n",
              "    }\n",
              "\n",
              "    .dataframe tbody tr th {\n",
              "        vertical-align: top;\n",
              "    }\n",
              "\n",
              "    .dataframe thead th {\n",
              "        text-align: right;\n",
              "    }\n",
              "</style>\n",
              "<table border=\"1\" class=\"dataframe\">\n",
              "  <thead>\n",
              "    <tr style=\"text-align: right;\">\n",
              "      <th></th>\n",
              "      <th>Ano</th>\n",
              "      <th>Rodada</th>\n",
              "      <th>Data</th>\n",
              "      <th>Mandante</th>\n",
              "      <th>Visitante</th>\n",
              "      <th>Gol.Mandante</th>\n",
              "      <th>Gol.Visitante</th>\n",
              "      <th>Total Gols</th>\n",
              "      <th>GP_m_20</th>\n",
              "      <th>GP_v_20</th>\n",
              "      <th>GC_m_20</th>\n",
              "      <th>GC_v_20</th>\n",
              "      <th>ShotsP_m_20</th>\n",
              "      <th>ShotsP_v_20</th>\n",
              "      <th>Elo_Dif_Abs</th>\n",
              "    </tr>\n",
              "  </thead>\n",
              "  <tbody>\n",
              "    <tr>\n",
              "      <th>0</th>\n",
              "      <td>2018</td>\n",
              "      <td>1</td>\n",
              "      <td>04/14/18 16:00</td>\n",
              "      <td>Cruzeiro</td>\n",
              "      <td>Gremio</td>\n",
              "      <td>0</td>\n",
              "      <td>1</td>\n",
              "      <td>1</td>\n",
              "      <td>26.0</td>\n",
              "      <td>22.0</td>\n",
              "      <td>23.0</td>\n",
              "      <td>18.0</td>\n",
              "      <td>292.0</td>\n",
              "      <td>229.0</td>\n",
              "      <td>0.349617821</td>\n",
              "    </tr>\n",
              "    <tr>\n",
              "      <th>1</th>\n",
              "      <td>2018</td>\n",
              "      <td>1</td>\n",
              "      <td>04/14/18 21:00</td>\n",
              "      <td>Santos</td>\n",
              "      <td>Ceara</td>\n",
              "      <td>2</td>\n",
              "      <td>0</td>\n",
              "      <td>2</td>\n",
              "      <td>20.0</td>\n",
              "      <td>23.0</td>\n",
              "      <td>19.0</td>\n",
              "      <td>36.0</td>\n",
              "      <td>NaN</td>\n",
              "      <td>NaN</td>\n",
              "      <td>3.639485369</td>\n",
              "    </tr>\n",
              "    <tr>\n",
              "      <th>2</th>\n",
              "      <td>2018</td>\n",
              "      <td>1</td>\n",
              "      <td>04/14/18 19:00</td>\n",
              "      <td>Vitoria</td>\n",
              "      <td>Flamengo</td>\n",
              "      <td>2</td>\n",
              "      <td>2</td>\n",
              "      <td>4</td>\n",
              "      <td>31.0</td>\n",
              "      <td>22.0</td>\n",
              "      <td>28.0</td>\n",
              "      <td>21.0</td>\n",
              "      <td>276.0</td>\n",
              "      <td>304.0</td>\n",
              "      <td>1.700226467</td>\n",
              "    </tr>\n",
              "    <tr>\n",
              "      <th>3</th>\n",
              "      <td>2018</td>\n",
              "      <td>1</td>\n",
              "      <td>04/15/18 19:00</td>\n",
              "      <td>Atletico-PR</td>\n",
              "      <td>Chapecoense</td>\n",
              "      <td>5</td>\n",
              "      <td>1</td>\n",
              "      <td>6</td>\n",
              "      <td>25.0</td>\n",
              "      <td>23.0</td>\n",
              "      <td>21.0</td>\n",
              "      <td>18.0</td>\n",
              "      <td>NaN</td>\n",
              "      <td>NaN</td>\n",
              "      <td>1.52850928</td>\n",
              "    </tr>\n",
              "    <tr>\n",
              "      <th>4</th>\n",
              "      <td>2018</td>\n",
              "      <td>1</td>\n",
              "      <td>04/15/18 16:00</td>\n",
              "      <td>Corinthians</td>\n",
              "      <td>Fluminense</td>\n",
              "      <td>2</td>\n",
              "      <td>1</td>\n",
              "      <td>3</td>\n",
              "      <td>21.0</td>\n",
              "      <td>21.0</td>\n",
              "      <td>22.0</td>\n",
              "      <td>26.0</td>\n",
              "      <td>266.0</td>\n",
              "      <td>246.0</td>\n",
              "      <td>2.71700047</td>\n",
              "    </tr>\n",
              "  </tbody>\n",
              "</table>\n",
              "</div>"
            ],
            "text/plain": [
              "    Ano  Rodada            Data  ... ShotsP_m_20 ShotsP_v_20  Elo_Dif_Abs\n",
              "0  2018       1  04/14/18 16:00  ...       292.0       229.0  0.349617821\n",
              "1  2018       1  04/14/18 21:00  ...         NaN         NaN  3.639485369\n",
              "2  2018       1  04/14/18 19:00  ...       276.0       304.0  1.700226467\n",
              "3  2018       1  04/15/18 19:00  ...         NaN         NaN   1.52850928\n",
              "4  2018       1  04/15/18 16:00  ...       266.0       246.0   2.71700047\n",
              "\n",
              "[5 rows x 15 columns]"
            ]
          },
          "metadata": {},
          "execution_count": 39
        }
      ]
    },
    {
      "cell_type": "markdown",
      "metadata": {
        "id": "Vf6WwwhVZMKC"
      },
      "source": [
        "## **1) Análise descritiva dos dados**"
      ]
    },
    {
      "cell_type": "code",
      "metadata": {
        "colab": {
          "base_uri": "https://localhost:8080/"
        },
        "id": "Vpoq5PgwZ4UC",
        "outputId": "3ea4b2d1-67a5-4e97-ee7c-ea47a53b4d8c"
      },
      "source": [
        "base_gols['Total Gols'].describe()"
      ],
      "execution_count": 40,
      "outputs": [
        {
          "output_type": "execute_result",
          "data": {
            "text/plain": [
              "count    1186.000000\n",
              "mean        2.317875\n",
              "std         1.530329\n",
              "min         0.000000\n",
              "25%         1.000000\n",
              "50%         2.000000\n",
              "75%         3.000000\n",
              "max         9.000000\n",
              "Name: Total Gols, dtype: float64"
            ]
          },
          "metadata": {},
          "execution_count": 40
        }
      ]
    },
    {
      "cell_type": "code",
      "metadata": {
        "colab": {
          "base_uri": "https://localhost:8080/"
        },
        "id": "QURGH-jzcB0b",
        "outputId": "00417931-0b4a-4d17-df71-bcd1bb79556b"
      },
      "source": [
        "statistics.mode(base_gols['Total Gols'])"
      ],
      "execution_count": 19,
      "outputs": [
        {
          "output_type": "execute_result",
          "data": {
            "text/plain": [
              "2"
            ]
          },
          "metadata": {},
          "execution_count": 19
        }
      ]
    },
    {
      "cell_type": "markdown",
      "metadata": {
        "id": "CfFZAeYig-vf"
      },
      "source": [
        "* A média de total de gols por partida é de 2,32 gols;\n",
        "* A menor quantidade de gols em uma partida foi 0; a maior, 9;\n",
        "* A moda do total de gols é de 2 gols"
      ]
    },
    {
      "cell_type": "code",
      "metadata": {
        "colab": {
          "base_uri": "https://localhost:8080/"
        },
        "id": "9KflILcXbiXk",
        "outputId": "f0d3d33d-c08b-4093-b2a3-2614fc4f4cc6"
      },
      "source": [
        "base_gols['Gol.Mandante'].describe()"
      ],
      "execution_count": 16,
      "outputs": [
        {
          "output_type": "execute_result",
          "data": {
            "text/plain": [
              "count    1186.000000\n",
              "mean        1.386172\n",
              "std         1.142628\n",
              "min         0.000000\n",
              "25%         1.000000\n",
              "50%         1.000000\n",
              "75%         2.000000\n",
              "max         6.000000\n",
              "Name: Gol.Mandante, dtype: float64"
            ]
          },
          "metadata": {},
          "execution_count": 16
        }
      ]
    },
    {
      "cell_type": "code",
      "metadata": {
        "colab": {
          "base_uri": "https://localhost:8080/"
        },
        "id": "-FwbmkD_cXhm",
        "outputId": "8174a568-fee9-4460-bead-e70c5b3566d9"
      },
      "source": [
        "statistics.mode(base_gols['Gol.Mandante'])"
      ],
      "execution_count": 21,
      "outputs": [
        {
          "output_type": "execute_result",
          "data": {
            "text/plain": [
              "1"
            ]
          },
          "metadata": {},
          "execution_count": 21
        }
      ]
    },
    {
      "cell_type": "code",
      "metadata": {
        "colab": {
          "base_uri": "https://localhost:8080/"
        },
        "id": "-j-tjp0DbiM5",
        "outputId": "8fcef5d1-b9f1-43d2-a420-068f417f7870"
      },
      "source": [
        "base_gols['Gol.Visitante'].describe()"
      ],
      "execution_count": 17,
      "outputs": [
        {
          "output_type": "execute_result",
          "data": {
            "text/plain": [
              "count    1186.000000\n",
              "mean        0.931703\n",
              "std         0.971088\n",
              "min         0.000000\n",
              "25%         0.000000\n",
              "50%         1.000000\n",
              "75%         1.000000\n",
              "max         5.000000\n",
              "Name: Gol.Visitante, dtype: float64"
            ]
          },
          "metadata": {},
          "execution_count": 17
        }
      ]
    },
    {
      "cell_type": "code",
      "metadata": {
        "colab": {
          "base_uri": "https://localhost:8080/"
        },
        "id": "yzVm4zKacXr_",
        "outputId": "aba12988-2731-4f01-deea-0103993180e1"
      },
      "source": [
        "statistics.mode(base_gols['Gol.Visitante'])"
      ],
      "execution_count": 20,
      "outputs": [
        {
          "output_type": "execute_result",
          "data": {
            "text/plain": [
              "1"
            ]
          },
          "metadata": {},
          "execution_count": 20
        }
      ]
    },
    {
      "cell_type": "markdown",
      "metadata": {
        "id": "AC1mdEPphkIf"
      },
      "source": [
        "* A média de total de gols do mandante por partida é de 1,38 gols; do visitante é de 0,93 gols;\n",
        "* A menor quantidade de gols do mandante em uma partida foi 0; a maior, 6;\n",
        "* A menor quantidade de gols do visitante em uma partida foi 0; a maior, 5;\n",
        "* A moda de gols do time mandante e do time visitante é de 1 gol"
      ]
    },
    {
      "cell_type": "code",
      "metadata": {
        "colab": {
          "base_uri": "https://localhost:8080/",
          "height": 990
        },
        "id": "PhlBqkuzcrvJ",
        "outputId": "28281b18-5d08-4273-d662-9c241beea091"
      },
      "source": [
        "# Olhando a média de gols por time mandante\n",
        "mandante = base_gols[[\"Mandante\", \"Gol.Mandante\"]]\n",
        "mandante2 = mandante.groupby([\"Mandante\"]).mean()\n",
        "mandante2"
      ],
      "execution_count": 30,
      "outputs": [
        {
          "output_type": "execute_result",
          "data": {
            "text/html": [
              "<div>\n",
              "<style scoped>\n",
              "    .dataframe tbody tr th:only-of-type {\n",
              "        vertical-align: middle;\n",
              "    }\n",
              "\n",
              "    .dataframe tbody tr th {\n",
              "        vertical-align: top;\n",
              "    }\n",
              "\n",
              "    .dataframe thead th {\n",
              "        text-align: right;\n",
              "    }\n",
              "</style>\n",
              "<table border=\"1\" class=\"dataframe\">\n",
              "  <thead>\n",
              "    <tr style=\"text-align: right;\">\n",
              "      <th></th>\n",
              "      <th>Gol.Mandante</th>\n",
              "    </tr>\n",
              "    <tr>\n",
              "      <th>Mandante</th>\n",
              "      <th></th>\n",
              "    </tr>\n",
              "  </thead>\n",
              "  <tbody>\n",
              "    <tr>\n",
              "      <th>America-MG</th>\n",
              "      <td>0.952381</td>\n",
              "    </tr>\n",
              "    <tr>\n",
              "      <th>Athletico-PR</th>\n",
              "      <td>1.175000</td>\n",
              "    </tr>\n",
              "    <tr>\n",
              "      <th>Atletico-GO</th>\n",
              "      <td>1.227273</td>\n",
              "    </tr>\n",
              "    <tr>\n",
              "      <th>Atletico-MG</th>\n",
              "      <td>1.716667</td>\n",
              "    </tr>\n",
              "    <tr>\n",
              "      <th>Atletico-PR</th>\n",
              "      <td>2.315789</td>\n",
              "    </tr>\n",
              "    <tr>\n",
              "      <th>Avai</th>\n",
              "      <td>0.526316</td>\n",
              "    </tr>\n",
              "    <tr>\n",
              "      <th>Bahia</th>\n",
              "      <td>1.350000</td>\n",
              "    </tr>\n",
              "    <tr>\n",
              "      <th>Botafogo</th>\n",
              "      <td>1.017544</td>\n",
              "    </tr>\n",
              "    <tr>\n",
              "      <th>CSA</th>\n",
              "      <td>0.941176</td>\n",
              "    </tr>\n",
              "    <tr>\n",
              "      <th>Ceara</th>\n",
              "      <td>1.100000</td>\n",
              "    </tr>\n",
              "    <tr>\n",
              "      <th>Chapecoense</th>\n",
              "      <td>1.000000</td>\n",
              "    </tr>\n",
              "    <tr>\n",
              "      <th>Corinthians</th>\n",
              "      <td>1.266667</td>\n",
              "    </tr>\n",
              "    <tr>\n",
              "      <th>Coritiba</th>\n",
              "      <td>0.736842</td>\n",
              "    </tr>\n",
              "    <tr>\n",
              "      <th>Cruzeiro</th>\n",
              "      <td>1.000000</td>\n",
              "    </tr>\n",
              "    <tr>\n",
              "      <th>Flamengo</th>\n",
              "      <td>2.150000</td>\n",
              "    </tr>\n",
              "    <tr>\n",
              "      <th>Fluminense</th>\n",
              "      <td>1.169492</td>\n",
              "    </tr>\n",
              "    <tr>\n",
              "      <th>Fortaleza</th>\n",
              "      <td>1.300000</td>\n",
              "    </tr>\n",
              "    <tr>\n",
              "      <th>Goias</th>\n",
              "      <td>1.315789</td>\n",
              "    </tr>\n",
              "    <tr>\n",
              "      <th>Gremio</th>\n",
              "      <td>1.833333</td>\n",
              "    </tr>\n",
              "    <tr>\n",
              "      <th>Internacional</th>\n",
              "      <td>1.616667</td>\n",
              "    </tr>\n",
              "    <tr>\n",
              "      <th>Juventude</th>\n",
              "      <td>0.500000</td>\n",
              "    </tr>\n",
              "    <tr>\n",
              "      <th>Palmeiras</th>\n",
              "      <td>2.032787</td>\n",
              "    </tr>\n",
              "    <tr>\n",
              "      <th>Parana</th>\n",
              "      <td>0.666667</td>\n",
              "    </tr>\n",
              "    <tr>\n",
              "      <th>RB Bragantino</th>\n",
              "      <td>1.900000</td>\n",
              "    </tr>\n",
              "    <tr>\n",
              "      <th>Santos</th>\n",
              "      <td>1.883333</td>\n",
              "    </tr>\n",
              "    <tr>\n",
              "      <th>Sao Paulo</th>\n",
              "      <td>1.322034</td>\n",
              "    </tr>\n",
              "    <tr>\n",
              "      <th>Sport Recife</th>\n",
              "      <td>0.974359</td>\n",
              "    </tr>\n",
              "    <tr>\n",
              "      <th>Vasco</th>\n",
              "      <td>1.228070</td>\n",
              "    </tr>\n",
              "    <tr>\n",
              "      <th>Vitoria</th>\n",
              "      <td>1.157895</td>\n",
              "    </tr>\n",
              "  </tbody>\n",
              "</table>\n",
              "</div>"
            ],
            "text/plain": [
              "               Gol.Mandante\n",
              "Mandante                   \n",
              "America-MG         0.952381\n",
              "Athletico-PR       1.175000\n",
              "Atletico-GO        1.227273\n",
              "Atletico-MG        1.716667\n",
              "Atletico-PR        2.315789\n",
              "Avai               0.526316\n",
              "Bahia              1.350000\n",
              "Botafogo           1.017544\n",
              "CSA                0.941176\n",
              "Ceara              1.100000\n",
              "Chapecoense        1.000000\n",
              "Corinthians        1.266667\n",
              "Coritiba           0.736842\n",
              "Cruzeiro           1.000000\n",
              "Flamengo           2.150000\n",
              "Fluminense         1.169492\n",
              "Fortaleza          1.300000\n",
              "Goias              1.315789\n",
              "Gremio             1.833333\n",
              "Internacional      1.616667\n",
              "Juventude          0.500000\n",
              "Palmeiras          2.032787\n",
              "Parana             0.666667\n",
              "RB Bragantino      1.900000\n",
              "Santos             1.883333\n",
              "Sao Paulo          1.322034\n",
              "Sport Recife       0.974359\n",
              "Vasco              1.228070\n",
              "Vitoria            1.157895"
            ]
          },
          "metadata": {},
          "execution_count": 30
        }
      ]
    },
    {
      "cell_type": "code",
      "metadata": {
        "colab": {
          "base_uri": "https://localhost:8080/",
          "height": 990
        },
        "id": "wX814-3xeu2c",
        "outputId": "ee541f4c-bd43-48f4-c6f1-97e0340e88af"
      },
      "source": [
        "# Olhando a média de gols por time visitante\n",
        "visitante = base_gols[[\"Visitante\", \"Gol.Visitante\"]]\n",
        "visitante2 = visitante.groupby([\"Visitante\"]).mean()\n",
        "visitante2"
      ],
      "execution_count": 31,
      "outputs": [
        {
          "output_type": "execute_result",
          "data": {
            "text/html": [
              "<div>\n",
              "<style scoped>\n",
              "    .dataframe tbody tr th:only-of-type {\n",
              "        vertical-align: middle;\n",
              "    }\n",
              "\n",
              "    .dataframe tbody tr th {\n",
              "        vertical-align: top;\n",
              "    }\n",
              "\n",
              "    .dataframe thead th {\n",
              "        text-align: right;\n",
              "    }\n",
              "</style>\n",
              "<table border=\"1\" class=\"dataframe\">\n",
              "  <thead>\n",
              "    <tr style=\"text-align: right;\">\n",
              "      <th></th>\n",
              "      <th>Gol.Visitante</th>\n",
              "    </tr>\n",
              "    <tr>\n",
              "      <th>Visitante</th>\n",
              "      <th></th>\n",
              "    </tr>\n",
              "  </thead>\n",
              "  <tbody>\n",
              "    <tr>\n",
              "      <th>America-MG</th>\n",
              "      <td>0.409091</td>\n",
              "    </tr>\n",
              "    <tr>\n",
              "      <th>Athletico-PR</th>\n",
              "      <td>1.179487</td>\n",
              "    </tr>\n",
              "    <tr>\n",
              "      <th>Atletico-GO</th>\n",
              "      <td>0.857143</td>\n",
              "    </tr>\n",
              "    <tr>\n",
              "      <th>Atletico-MG</th>\n",
              "      <td>1.114754</td>\n",
              "    </tr>\n",
              "    <tr>\n",
              "      <th>Atletico-PR</th>\n",
              "      <td>0.526316</td>\n",
              "    </tr>\n",
              "    <tr>\n",
              "      <th>Avai</th>\n",
              "      <td>0.421053</td>\n",
              "    </tr>\n",
              "    <tr>\n",
              "      <th>Bahia</th>\n",
              "      <td>1.000000</td>\n",
              "    </tr>\n",
              "    <tr>\n",
              "      <th>Botafogo</th>\n",
              "      <td>0.763636</td>\n",
              "    </tr>\n",
              "    <tr>\n",
              "      <th>CSA</th>\n",
              "      <td>0.388889</td>\n",
              "    </tr>\n",
              "    <tr>\n",
              "      <th>Ceara</th>\n",
              "      <td>0.983333</td>\n",
              "    </tr>\n",
              "    <tr>\n",
              "      <th>Chapecoense</th>\n",
              "      <td>0.714286</td>\n",
              "    </tr>\n",
              "    <tr>\n",
              "      <th>Corinthians</th>\n",
              "      <td>0.836066</td>\n",
              "    </tr>\n",
              "    <tr>\n",
              "      <th>Coritiba</th>\n",
              "      <td>0.947368</td>\n",
              "    </tr>\n",
              "    <tr>\n",
              "      <th>Cruzeiro</th>\n",
              "      <td>0.605263</td>\n",
              "    </tr>\n",
              "    <tr>\n",
              "      <th>Flamengo</th>\n",
              "      <td>1.586207</td>\n",
              "    </tr>\n",
              "    <tr>\n",
              "      <th>Fluminense</th>\n",
              "      <td>1.016393</td>\n",
              "    </tr>\n",
              "    <tr>\n",
              "      <th>Fortaleza</th>\n",
              "      <td>0.976190</td>\n",
              "    </tr>\n",
              "    <tr>\n",
              "      <th>Goias</th>\n",
              "      <td>0.973684</td>\n",
              "    </tr>\n",
              "    <tr>\n",
              "      <th>Gremio</th>\n",
              "      <td>1.000000</td>\n",
              "    </tr>\n",
              "    <tr>\n",
              "      <th>Internacional</th>\n",
              "      <td>1.098361</td>\n",
              "    </tr>\n",
              "    <tr>\n",
              "      <th>Juventude</th>\n",
              "      <td>0.500000</td>\n",
              "    </tr>\n",
              "    <tr>\n",
              "      <th>Palmeiras</th>\n",
              "      <td>1.103448</td>\n",
              "    </tr>\n",
              "    <tr>\n",
              "      <th>Parana</th>\n",
              "      <td>0.263158</td>\n",
              "    </tr>\n",
              "    <tr>\n",
              "      <th>RB Bragantino</th>\n",
              "      <td>1.000000</td>\n",
              "    </tr>\n",
              "    <tr>\n",
              "      <th>Santos</th>\n",
              "      <td>0.898305</td>\n",
              "    </tr>\n",
              "    <tr>\n",
              "      <th>Sao Paulo</th>\n",
              "      <td>1.098361</td>\n",
              "    </tr>\n",
              "    <tr>\n",
              "      <th>Sport Recife</th>\n",
              "      <td>0.725000</td>\n",
              "    </tr>\n",
              "    <tr>\n",
              "      <th>Vasco</th>\n",
              "      <td>0.821429</td>\n",
              "    </tr>\n",
              "    <tr>\n",
              "      <th>Vitoria</th>\n",
              "      <td>0.736842</td>\n",
              "    </tr>\n",
              "  </tbody>\n",
              "</table>\n",
              "</div>"
            ],
            "text/plain": [
              "               Gol.Visitante\n",
              "Visitante                   \n",
              "America-MG          0.409091\n",
              "Athletico-PR        1.179487\n",
              "Atletico-GO         0.857143\n",
              "Atletico-MG         1.114754\n",
              "Atletico-PR         0.526316\n",
              "Avai                0.421053\n",
              "Bahia               1.000000\n",
              "Botafogo            0.763636\n",
              "CSA                 0.388889\n",
              "Ceara               0.983333\n",
              "Chapecoense         0.714286\n",
              "Corinthians         0.836066\n",
              "Coritiba            0.947368\n",
              "Cruzeiro            0.605263\n",
              "Flamengo            1.586207\n",
              "Fluminense          1.016393\n",
              "Fortaleza           0.976190\n",
              "Goias               0.973684\n",
              "Gremio              1.000000\n",
              "Internacional       1.098361\n",
              "Juventude           0.500000\n",
              "Palmeiras           1.103448\n",
              "Parana              0.263158\n",
              "RB Bragantino       1.000000\n",
              "Santos              0.898305\n",
              "Sao Paulo           1.098361\n",
              "Sport Recife        0.725000\n",
              "Vasco               0.821429\n",
              "Vitoria             0.736842"
            ]
          },
          "metadata": {},
          "execution_count": 31
        }
      ]
    },
    {
      "cell_type": "markdown",
      "metadata": {
        "id": "VmbJMcZLlB23"
      },
      "source": [
        "## **2) Construção do modelo de regressão linear**"
      ]
    },
    {
      "cell_type": "code",
      "metadata": {
        "id": "1Ozgvy9OZ43X"
      },
      "source": [
        ""
      ],
      "execution_count": null,
      "outputs": []
    },
    {
      "cell_type": "markdown",
      "metadata": {
        "id": "3RziBL-cZXfS"
      },
      "source": [
        "## **3) Interpretação do sinal e magnitude dos parâmetros**"
      ]
    },
    {
      "cell_type": "code",
      "metadata": {
        "id": "FeIuo7UQZ22s"
      },
      "source": [
        ""
      ],
      "execution_count": null,
      "outputs": []
    },
    {
      "cell_type": "markdown",
      "metadata": {
        "id": "gJQmdheJZXX-"
      },
      "source": [
        "## **4) Análise de erros**"
      ]
    },
    {
      "cell_type": "code",
      "metadata": {
        "id": "pbx0swOrZ2IZ"
      },
      "source": [
        ""
      ],
      "execution_count": null,
      "outputs": []
    },
    {
      "cell_type": "markdown",
      "metadata": {
        "id": "7hknwi__ZXPm"
      },
      "source": [
        "## **5) Apresentação da previsão do número de gols para a próxima rodada, com comentários**"
      ]
    },
    {
      "cell_type": "code",
      "metadata": {
        "id": "bOPUpk4ZZW-u"
      },
      "source": [
        ""
      ],
      "execution_count": null,
      "outputs": []
    }
  ]
}
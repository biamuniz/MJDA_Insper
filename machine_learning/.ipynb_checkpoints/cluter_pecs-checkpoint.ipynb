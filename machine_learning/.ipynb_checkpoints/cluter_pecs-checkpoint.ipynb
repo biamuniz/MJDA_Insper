{
 "cells": [
  {
   "cell_type": "code",
   "execution_count": 1,
   "metadata": {
    "id": "bfoYyqfp42AK"
   },
   "outputs": [
    {
     "name": "stderr",
     "output_type": "stream",
     "text": [
      "Matplotlib is building the font cache; this may take a moment.\n"
     ]
    }
   ],
   "source": [
    "import pandas as pd\n",
    "import numpy as np\n",
    "import sklearn\n",
    "import seaborn as sns\n",
    "import matplotlib.pyplot as plt"
   ]
  },
  {
   "cell_type": "code",
   "execution_count": 2,
   "metadata": {
    "id": "Sp3NERGV42AM"
   },
   "outputs": [],
   "source": [
    "base_votos = pd.read_csv(r\"http://dadosabertos.camara.leg.br/arquivos/votacoes/csv/votacoes-2021.csv\", sep=\";\", encoding=\"utf-8\", error_bad_lines=False)\n",
    "base_votacao = pd.read_csv(r\"http://dadosabertos.camara.leg.br/arquivos/votacoesObjetos/csv/votacoesObjetos-2021.csv\", sep=\";\", encoding=\"utf-8\", error_bad_lines=False)"
   ]
  },
  {
   "cell_type": "code",
   "execution_count": 3,
   "metadata": {
    "colab": {
     "base_uri": "https://localhost:8080/"
    },
    "id": "-WJSS8nj42AM",
    "outputId": "842b2050-e51c-44ff-83ae-f26b80ee9cec"
   },
   "outputs": [
    {
     "name": "stdout",
     "output_type": "stream",
     "text": [
      "<class 'pandas.core.frame.DataFrame'>\n",
      "RangeIndex: 51840 entries, 0 to 51839\n",
      "Data columns (total 12 columns):\n",
      " #   Column                Non-Null Count  Dtype  \n",
      "---  ------                --------------  -----  \n",
      " 0   idVotacao             51840 non-null  object \n",
      " 1   uriVotacao            51840 non-null  object \n",
      " 2   data                  51840 non-null  object \n",
      " 3   descricao             51840 non-null  object \n",
      " 4   proposicao_id         51840 non-null  int64  \n",
      " 5   proposicao_uri        51840 non-null  object \n",
      " 6   proposicao_ementa     50846 non-null  object \n",
      " 7   proposicao_codTipo    51840 non-null  int64  \n",
      " 8   proposicao_siglaTipo  51840 non-null  object \n",
      " 9   proposicao_numero     51840 non-null  int64  \n",
      " 10  proposicao_ano        14439 non-null  float64\n",
      " 11  proposicao_titulo     51840 non-null  object \n",
      "dtypes: float64(1), int64(3), object(8)\n",
      "memory usage: 4.7+ MB\n"
     ]
    }
   ],
   "source": [
    "base_votacao.info()"
   ]
  },
  {
   "cell_type": "code",
   "execution_count": null,
   "metadata": {
    "id": "y8WGpzqy42AN"
   },
   "outputs": [],
   "source": [
    "x = base_votos.drop(['uriVotacao','dataHoraVoto','uriVotacao','deputado_uri'\n",
    "                   ,'deputado_uriPartido','deputado_siglaUf'\n",
    "                   ,'deputado_idLegislatura','deputado_urlFoto'],axis=1)"
   ]
  },
  {
   "cell_type": "code",
   "execution_count": null,
   "metadata": {
    "colab": {
     "base_uri": "https://localhost:8080/"
    },
    "id": "8ob5xKvK42AO",
    "outputId": "9a5bd719-66bb-4929-9a36-75a56eb672c2"
   },
   "outputs": [
    {
     "name": "stdout",
     "output_type": "stream",
     "text": [
      "Sim          159395\n",
      "Não          133770\n",
      "Obstrução      2741\n",
      "Abstenção       661\n",
      "Artigo 17       647\n",
      "Name: voto, dtype: int64\n"
     ]
    }
   ],
   "source": [
    "print(x.voto.value_counts())\n",
    "\n",
    "x.replace({\"voto\":{\"Sim\" : 1, \"Não\" : 0, \"Obstrução\" : 0, \"Abstenção\": 0.5, \"Artigo 17\": 0.5}}, inplace = True)\n",
    "\n",
    "x = x.pivot_table('voto', ['deputado_id','deputado_nome','deputado_siglaPartido'], 'idVotacao')"
   ]
  },
  {
   "cell_type": "code",
   "execution_count": null,
   "metadata": {
    "id": "g26vYsxm42AO"
   },
   "outputs": [],
   "source": [
    "propostas_selecionadas = [#'2282791-60',\n",
    "                          '2293449-187',\n",
    "                          '2275537-117',\n",
    "                          '2275537-102',\n",
    "                          '2165194-130',\n",
    "                          '2210757-104',\n",
    "                          '2210757-93',\n",
    "                          '531331-317',\n",
    "                          '531331-284',\n",
    "                          '2166595-59']\n"
   ]
  },
  {
   "cell_type": "code",
   "execution_count": null,
   "metadata": {
    "id": "8_Y9KcZE42AO"
   },
   "outputs": [],
   "source": [
    "base_votacao_selecionadas = base_votacao[base_votacao['idVotacao'].isin(propostas_selecionadas)]"
   ]
  },
  {
   "cell_type": "code",
   "execution_count": null,
   "metadata": {
    "colab": {
     "base_uri": "https://localhost:8080/"
    },
    "id": "D2vBHzeo42AP",
    "outputId": "9b0614dd-1601-46aa-9239-21e69015f7dc"
   },
   "outputs": [
    {
     "name": "stdout",
     "output_type": "stream",
     "text": [
      "<class 'pandas.core.frame.DataFrame'>\n",
      "Int64Index: 60 entries, 23630 to 46740\n",
      "Data columns (total 12 columns):\n",
      " #   Column                Non-Null Count  Dtype  \n",
      "---  ------                --------------  -----  \n",
      " 0   idVotacao             60 non-null     object \n",
      " 1   uriVotacao            60 non-null     object \n",
      " 2   data                  60 non-null     object \n",
      " 3   descricao             60 non-null     object \n",
      " 4   proposicao_id         60 non-null     int64  \n",
      " 5   proposicao_uri        60 non-null     object \n",
      " 6   proposicao_ementa     60 non-null     object \n",
      " 7   proposicao_codTipo    60 non-null     int64  \n",
      " 8   proposicao_siglaTipo  60 non-null     object \n",
      " 9   proposicao_numero     60 non-null     int64  \n",
      " 10  proposicao_ano        28 non-null     float64\n",
      " 11  proposicao_titulo     60 non-null     object \n",
      "dtypes: float64(1), int64(3), object(8)\n",
      "memory usage: 6.1+ KB\n"
     ]
    }
   ],
   "source": [
    "base_votacao_selecionadas.info()"
   ]
  },
  {
   "cell_type": "code",
   "execution_count": null,
   "metadata": {
    "id": "K-Z40lPP42AP"
   },
   "outputs": [],
   "source": [
    "x1 = x[propostas_selecionadas]"
   ]
  },
  {
   "cell_type": "code",
   "execution_count": null,
   "metadata": {
    "colab": {
     "base_uri": "https://localhost:8080/"
    },
    "id": "SkOPsTi842AP",
    "outputId": "71e6648b-76b8-47d9-fe1f-0ceea1f6cddc"
   },
   "outputs": [
    {
     "name": "stdout",
     "output_type": "stream",
     "text": [
      "<class 'pandas.core.frame.DataFrame'>\n",
      "MultiIndex: 553 entries, (62881, 'Danilo Forte', 'PSDB') to (218086, 'Ely Santos', 'REPUBLICANOS')\n",
      "Data columns (total 9 columns):\n",
      " #   Column       Non-Null Count  Dtype  \n",
      "---  ------       --------------  -----  \n",
      " 0   2293449-187  479 non-null    float64\n",
      " 1   2275537-117  444 non-null    float64\n",
      " 2   2275537-102  429 non-null    float64\n",
      " 3   2165194-130  459 non-null    float64\n",
      " 4   2210757-104  441 non-null    float64\n",
      " 5   2210757-93   442 non-null    float64\n",
      " 6   531331-317   440 non-null    float64\n",
      " 7   531331-284   429 non-null    float64\n",
      " 8   2166595-59   427 non-null    float64\n",
      "dtypes: float64(9)\n",
      "memory usage: 50.4+ KB\n"
     ]
    }
   ],
   "source": [
    "x1.info()"
   ]
  },
  {
   "cell_type": "code",
   "execution_count": null,
   "metadata": {
    "id": "yfJEcois42AQ"
   },
   "outputs": [],
   "source": [
    "x1 = x1.dropna()"
   ]
  },
  {
   "cell_type": "code",
   "execution_count": null,
   "metadata": {
    "colab": {
     "base_uri": "https://localhost:8080/"
    },
    "id": "Ond0ydMW42AQ",
    "outputId": "f81b9040-6e69-4b18-bd67-53b28b19a0ac"
   },
   "outputs": [
    {
     "name": "stdout",
     "output_type": "stream",
     "text": [
      "<class 'pandas.core.frame.DataFrame'>\n",
      "MultiIndex: 211 entries, (62881, 'Danilo Forte', 'PSDB') to (215045, 'Pedro Augusto Palareti', 'PSD')\n",
      "Data columns (total 9 columns):\n",
      " #   Column       Non-Null Count  Dtype  \n",
      "---  ------       --------------  -----  \n",
      " 0   2293449-187  211 non-null    float64\n",
      " 1   2275537-117  211 non-null    float64\n",
      " 2   2275537-102  211 non-null    float64\n",
      " 3   2165194-130  211 non-null    float64\n",
      " 4   2210757-104  211 non-null    float64\n",
      " 5   2210757-93   211 non-null    float64\n",
      " 6   531331-317   211 non-null    float64\n",
      " 7   531331-284   211 non-null    float64\n",
      " 8   2166595-59   211 non-null    float64\n",
      "dtypes: float64(9)\n",
      "memory usage: 24.7+ KB\n"
     ]
    }
   ],
   "source": [
    "x1.info()"
   ]
  },
  {
   "cell_type": "code",
   "execution_count": null,
   "metadata": {
    "id": "Pt901ipk42AQ"
   },
   "outputs": [],
   "source": [
    "from sklearn.cluster import KMeans"
   ]
  },
  {
   "cell_type": "code",
   "execution_count": null,
   "metadata": {
    "id": "wq0qMCNT42AQ"
   },
   "outputs": [],
   "source": [
    "kmeans = KMeans(init=\"random\", n_clusters=3, n_init=10,max_iter=300)"
   ]
  },
  {
   "cell_type": "code",
   "execution_count": null,
   "metadata": {
    "id": "V1nCq26_42AQ"
   },
   "outputs": [],
   "source": [
    "labels = kmeans.fit(x1)\n",
    "prediction = kmeans.predict(x1)\n",
    "prediction = pd.DataFrame(prediction)"
   ]
  },
  {
   "cell_type": "code",
   "execution_count": null,
   "metadata": {
    "id": "ZWwt24qK42AR"
   },
   "outputs": [],
   "source": [
    "x1 = x1.reset_index(level =['deputado_id','deputado_nome','deputado_siglaPartido'])\n",
    "x1['Cluster'] = prediction"
   ]
  },
  {
   "cell_type": "code",
   "execution_count": null,
   "metadata": {
    "colab": {
     "base_uri": "https://localhost:8080/",
     "height": 261
    },
    "id": "eMbC0hk-42AR",
    "outputId": "39e71ceb-9c47-46dd-beef-991cf8bb5f7c"
   },
   "outputs": [
    {
     "data": {
      "text/html": [
       "<div>\n",
       "<style scoped>\n",
       "    .dataframe tbody tr th:only-of-type {\n",
       "        vertical-align: middle;\n",
       "    }\n",
       "\n",
       "    .dataframe tbody tr th {\n",
       "        vertical-align: top;\n",
       "    }\n",
       "\n",
       "    .dataframe thead th {\n",
       "        text-align: right;\n",
       "    }\n",
       "</style>\n",
       "<table border=\"1\" class=\"dataframe\">\n",
       "  <thead>\n",
       "    <tr style=\"text-align: right;\">\n",
       "      <th>idVotacao</th>\n",
       "      <th>deputado_id</th>\n",
       "      <th>deputado_nome</th>\n",
       "      <th>deputado_siglaPartido</th>\n",
       "      <th>2293449-187</th>\n",
       "      <th>2275537-117</th>\n",
       "      <th>2275537-102</th>\n",
       "      <th>2165194-130</th>\n",
       "      <th>2210757-104</th>\n",
       "      <th>2210757-93</th>\n",
       "      <th>531331-317</th>\n",
       "      <th>531331-284</th>\n",
       "      <th>2166595-59</th>\n",
       "      <th>Cluster</th>\n",
       "    </tr>\n",
       "  </thead>\n",
       "  <tbody>\n",
       "    <tr>\n",
       "      <th>0</th>\n",
       "      <td>62881</td>\n",
       "      <td>Danilo Forte</td>\n",
       "      <td>PSDB</td>\n",
       "      <td>0.0</td>\n",
       "      <td>0.0</td>\n",
       "      <td>0.0</td>\n",
       "      <td>1.0</td>\n",
       "      <td>1.0</td>\n",
       "      <td>1.0</td>\n",
       "      <td>1.0</td>\n",
       "      <td>0.0</td>\n",
       "      <td>1.0</td>\n",
       "      <td>2</td>\n",
       "    </tr>\n",
       "    <tr>\n",
       "      <th>1</th>\n",
       "      <td>66828</td>\n",
       "      <td>Fausto Pinato</td>\n",
       "      <td>PP</td>\n",
       "      <td>1.0</td>\n",
       "      <td>0.0</td>\n",
       "      <td>0.0</td>\n",
       "      <td>1.0</td>\n",
       "      <td>1.0</td>\n",
       "      <td>1.0</td>\n",
       "      <td>1.0</td>\n",
       "      <td>0.0</td>\n",
       "      <td>1.0</td>\n",
       "      <td>1</td>\n",
       "    </tr>\n",
       "    <tr>\n",
       "      <th>2</th>\n",
       "      <td>73433</td>\n",
       "      <td>Arlindo Chinaglia</td>\n",
       "      <td>PT</td>\n",
       "      <td>0.0</td>\n",
       "      <td>0.0</td>\n",
       "      <td>0.0</td>\n",
       "      <td>1.0</td>\n",
       "      <td>1.0</td>\n",
       "      <td>1.0</td>\n",
       "      <td>1.0</td>\n",
       "      <td>0.0</td>\n",
       "      <td>1.0</td>\n",
       "      <td>2</td>\n",
       "    </tr>\n",
       "    <tr>\n",
       "      <th>3</th>\n",
       "      <td>73466</td>\n",
       "      <td>Rubens Bueno</td>\n",
       "      <td>CIDADANIA</td>\n",
       "      <td>1.0</td>\n",
       "      <td>1.0</td>\n",
       "      <td>1.0</td>\n",
       "      <td>1.0</td>\n",
       "      <td>1.0</td>\n",
       "      <td>1.0</td>\n",
       "      <td>0.0</td>\n",
       "      <td>0.0</td>\n",
       "      <td>1.0</td>\n",
       "      <td>0</td>\n",
       "    </tr>\n",
       "    <tr>\n",
       "      <th>4</th>\n",
       "      <td>73482</td>\n",
       "      <td>Henrique Fontana</td>\n",
       "      <td>PT</td>\n",
       "      <td>0.0</td>\n",
       "      <td>0.0</td>\n",
       "      <td>0.0</td>\n",
       "      <td>1.0</td>\n",
       "      <td>1.0</td>\n",
       "      <td>1.0</td>\n",
       "      <td>1.0</td>\n",
       "      <td>0.0</td>\n",
       "      <td>1.0</td>\n",
       "      <td>2</td>\n",
       "    </tr>\n",
       "  </tbody>\n",
       "</table>\n",
       "</div>"
      ],
      "text/plain": [
       "idVotacao  deputado_id      deputado_nome  ... 2166595-59  Cluster\n",
       "0                62881       Danilo Forte  ...        1.0        2\n",
       "1                66828      Fausto Pinato  ...        1.0        1\n",
       "2                73433  Arlindo Chinaglia  ...        1.0        2\n",
       "3                73466       Rubens Bueno  ...        1.0        0\n",
       "4                73482   Henrique Fontana  ...        1.0        2\n",
       "\n",
       "[5 rows x 13 columns]"
      ]
     },
     "execution_count": 18,
     "metadata": {},
     "output_type": "execute_result"
    }
   ],
   "source": [
    "x1.head()"
   ]
  },
  {
   "cell_type": "code",
   "execution_count": null,
   "metadata": {
    "id": "5Gjvml1342AR"
   },
   "outputs": [],
   "source": [
    "cluster = x1.groupby(['deputado_siglaPartido','Cluster']).size().reset_index(name='counts')\n"
   ]
  },
  {
   "cell_type": "code",
   "execution_count": null,
   "metadata": {
    "colab": {
     "base_uri": "https://localhost:8080/",
     "height": 206
    },
    "id": "4Dql06yO42AR",
    "outputId": "ab4524c1-45cd-4639-8192-1999a9deeb71"
   },
   "outputs": [
    {
     "data": {
      "text/html": [
       "<div>\n",
       "<style scoped>\n",
       "    .dataframe tbody tr th:only-of-type {\n",
       "        vertical-align: middle;\n",
       "    }\n",
       "\n",
       "    .dataframe tbody tr th {\n",
       "        vertical-align: top;\n",
       "    }\n",
       "\n",
       "    .dataframe thead th {\n",
       "        text-align: right;\n",
       "    }\n",
       "</style>\n",
       "<table border=\"1\" class=\"dataframe\">\n",
       "  <thead>\n",
       "    <tr style=\"text-align: right;\">\n",
       "      <th></th>\n",
       "      <th>deputado_siglaPartido</th>\n",
       "      <th>Cluster</th>\n",
       "      <th>counts</th>\n",
       "    </tr>\n",
       "  </thead>\n",
       "  <tbody>\n",
       "    <tr>\n",
       "      <th>0</th>\n",
       "      <td>AVANTE</td>\n",
       "      <td>0</td>\n",
       "      <td>2</td>\n",
       "    </tr>\n",
       "    <tr>\n",
       "      <th>1</th>\n",
       "      <td>AVANTE</td>\n",
       "      <td>1</td>\n",
       "      <td>1</td>\n",
       "    </tr>\n",
       "    <tr>\n",
       "      <th>2</th>\n",
       "      <td>CIDADANIA</td>\n",
       "      <td>0</td>\n",
       "      <td>5</td>\n",
       "    </tr>\n",
       "    <tr>\n",
       "      <th>3</th>\n",
       "      <td>CIDADANIA</td>\n",
       "      <td>1</td>\n",
       "      <td>1</td>\n",
       "    </tr>\n",
       "    <tr>\n",
       "      <th>4</th>\n",
       "      <td>DEM</td>\n",
       "      <td>0</td>\n",
       "      <td>3</td>\n",
       "    </tr>\n",
       "  </tbody>\n",
       "</table>\n",
       "</div>"
      ],
      "text/plain": [
       "  deputado_siglaPartido  Cluster  counts\n",
       "0                AVANTE        0       2\n",
       "1                AVANTE        1       1\n",
       "2             CIDADANIA        0       5\n",
       "3             CIDADANIA        1       1\n",
       "4                   DEM        0       3"
      ]
     },
     "execution_count": 20,
     "metadata": {},
     "output_type": "execute_result"
    }
   ],
   "source": [
    "cluster.head()"
   ]
  },
  {
   "cell_type": "code",
   "execution_count": null,
   "metadata": {
    "id": "4UeM_svW42AS"
   },
   "outputs": [],
   "source": [
    "cluster_final = cluster.pivot_table('counts', ['deputado_siglaPartido'], 'Cluster')\n"
   ]
  },
  {
   "cell_type": "code",
   "execution_count": null,
   "metadata": {
    "colab": {
     "base_uri": "https://localhost:8080/",
     "height": 771
    },
    "id": "ipr4phXY42AS",
    "outputId": "60e0c8d7-2a25-4b97-e9eb-5254e4956cd5"
   },
   "outputs": [
    {
     "data": {
      "text/html": [
       "<div>\n",
       "<style scoped>\n",
       "    .dataframe tbody tr th:only-of-type {\n",
       "        vertical-align: middle;\n",
       "    }\n",
       "\n",
       "    .dataframe tbody tr th {\n",
       "        vertical-align: top;\n",
       "    }\n",
       "\n",
       "    .dataframe thead th {\n",
       "        text-align: right;\n",
       "    }\n",
       "</style>\n",
       "<table border=\"1\" class=\"dataframe\">\n",
       "  <thead>\n",
       "    <tr style=\"text-align: right;\">\n",
       "      <th>Cluster</th>\n",
       "      <th>0</th>\n",
       "      <th>1</th>\n",
       "      <th>2</th>\n",
       "    </tr>\n",
       "    <tr>\n",
       "      <th>deputado_siglaPartido</th>\n",
       "      <th></th>\n",
       "      <th></th>\n",
       "      <th></th>\n",
       "    </tr>\n",
       "  </thead>\n",
       "  <tbody>\n",
       "    <tr>\n",
       "      <th>AVANTE</th>\n",
       "      <td>2.0</td>\n",
       "      <td>1.0</td>\n",
       "      <td>NaN</td>\n",
       "    </tr>\n",
       "    <tr>\n",
       "      <th>CIDADANIA</th>\n",
       "      <td>5.0</td>\n",
       "      <td>1.0</td>\n",
       "      <td>NaN</td>\n",
       "    </tr>\n",
       "    <tr>\n",
       "      <th>DEM</th>\n",
       "      <td>3.0</td>\n",
       "      <td>3.0</td>\n",
       "      <td>NaN</td>\n",
       "    </tr>\n",
       "    <tr>\n",
       "      <th>MDB</th>\n",
       "      <td>3.0</td>\n",
       "      <td>6.0</td>\n",
       "      <td>NaN</td>\n",
       "    </tr>\n",
       "    <tr>\n",
       "      <th>NOVO</th>\n",
       "      <td>8.0</td>\n",
       "      <td>NaN</td>\n",
       "      <td>NaN</td>\n",
       "    </tr>\n",
       "    <tr>\n",
       "      <th>PCdoB</th>\n",
       "      <td>NaN</td>\n",
       "      <td>NaN</td>\n",
       "      <td>5.0</td>\n",
       "    </tr>\n",
       "    <tr>\n",
       "      <th>PDT</th>\n",
       "      <td>6.0</td>\n",
       "      <td>NaN</td>\n",
       "      <td>1.0</td>\n",
       "    </tr>\n",
       "    <tr>\n",
       "      <th>PL</th>\n",
       "      <td>1.0</td>\n",
       "      <td>10.0</td>\n",
       "      <td>NaN</td>\n",
       "    </tr>\n",
       "    <tr>\n",
       "      <th>PODE</th>\n",
       "      <td>1.0</td>\n",
       "      <td>2.0</td>\n",
       "      <td>2.0</td>\n",
       "    </tr>\n",
       "    <tr>\n",
       "      <th>PP</th>\n",
       "      <td>2.0</td>\n",
       "      <td>6.0</td>\n",
       "      <td>NaN</td>\n",
       "    </tr>\n",
       "    <tr>\n",
       "      <th>PROS</th>\n",
       "      <td>3.0</td>\n",
       "      <td>1.0</td>\n",
       "      <td>1.0</td>\n",
       "    </tr>\n",
       "    <tr>\n",
       "      <th>PSB</th>\n",
       "      <td>9.0</td>\n",
       "      <td>3.0</td>\n",
       "      <td>4.0</td>\n",
       "    </tr>\n",
       "    <tr>\n",
       "      <th>PSC</th>\n",
       "      <td>1.0</td>\n",
       "      <td>5.0</td>\n",
       "      <td>NaN</td>\n",
       "    </tr>\n",
       "    <tr>\n",
       "      <th>PSD</th>\n",
       "      <td>3.0</td>\n",
       "      <td>10.0</td>\n",
       "      <td>NaN</td>\n",
       "    </tr>\n",
       "    <tr>\n",
       "      <th>PSDB</th>\n",
       "      <td>8.0</td>\n",
       "      <td>4.0</td>\n",
       "      <td>1.0</td>\n",
       "    </tr>\n",
       "    <tr>\n",
       "      <th>PSL</th>\n",
       "      <td>9.0</td>\n",
       "      <td>25.0</td>\n",
       "      <td>1.0</td>\n",
       "    </tr>\n",
       "    <tr>\n",
       "      <th>PSOL</th>\n",
       "      <td>3.0</td>\n",
       "      <td>NaN</td>\n",
       "      <td>NaN</td>\n",
       "    </tr>\n",
       "    <tr>\n",
       "      <th>PT</th>\n",
       "      <td>NaN</td>\n",
       "      <td>NaN</td>\n",
       "      <td>32.0</td>\n",
       "    </tr>\n",
       "    <tr>\n",
       "      <th>PTB</th>\n",
       "      <td>NaN</td>\n",
       "      <td>1.0</td>\n",
       "      <td>NaN</td>\n",
       "    </tr>\n",
       "    <tr>\n",
       "      <th>PV</th>\n",
       "      <td>1.0</td>\n",
       "      <td>NaN</td>\n",
       "      <td>NaN</td>\n",
       "    </tr>\n",
       "    <tr>\n",
       "      <th>REPUBLICANOS</th>\n",
       "      <td>1.0</td>\n",
       "      <td>13.0</td>\n",
       "      <td>NaN</td>\n",
       "    </tr>\n",
       "    <tr>\n",
       "      <th>SOLIDARIEDADE</th>\n",
       "      <td>NaN</td>\n",
       "      <td>4.0</td>\n",
       "      <td>NaN</td>\n",
       "    </tr>\n",
       "  </tbody>\n",
       "</table>\n",
       "</div>"
      ],
      "text/plain": [
       "Cluster                  0     1     2\n",
       "deputado_siglaPartido                 \n",
       "AVANTE                 2.0   1.0   NaN\n",
       "CIDADANIA              5.0   1.0   NaN\n",
       "DEM                    3.0   3.0   NaN\n",
       "MDB                    3.0   6.0   NaN\n",
       "NOVO                   8.0   NaN   NaN\n",
       "PCdoB                  NaN   NaN   5.0\n",
       "PDT                    6.0   NaN   1.0\n",
       "PL                     1.0  10.0   NaN\n",
       "PODE                   1.0   2.0   2.0\n",
       "PP                     2.0   6.0   NaN\n",
       "PROS                   3.0   1.0   1.0\n",
       "PSB                    9.0   3.0   4.0\n",
       "PSC                    1.0   5.0   NaN\n",
       "PSD                    3.0  10.0   NaN\n",
       "PSDB                   8.0   4.0   1.0\n",
       "PSL                    9.0  25.0   1.0\n",
       "PSOL                   3.0   NaN   NaN\n",
       "PT                     NaN   NaN  32.0\n",
       "PTB                    NaN   1.0   NaN\n",
       "PV                     1.0   NaN   NaN\n",
       "REPUBLICANOS           1.0  13.0   NaN\n",
       "SOLIDARIEDADE          NaN   4.0   NaN"
      ]
     },
     "execution_count": 22,
     "metadata": {},
     "output_type": "execute_result"
    }
   ],
   "source": [
    "cluster_final"
   ]
  },
  {
   "cell_type": "code",
   "execution_count": null,
   "metadata": {
    "id": "84cA2oWb42AS"
   },
   "outputs": [],
   "source": []
  }
 ],
 "metadata": {
  "colab": {
   "collapsed_sections": [],
   "name": "cluter_pecs.ipynb",
   "provenance": []
  },
  "kernelspec": {
   "display_name": "Python 3",
   "language": "python",
   "name": "python3"
  },
  "language_info": {
   "codemirror_mode": {
    "name": "ipython",
    "version": 3
   },
   "file_extension": ".py",
   "mimetype": "text/x-python",
   "name": "python",
   "nbconvert_exporter": "python",
   "pygments_lexer": "ipython3",
   "version": "3.8.8"
  }
 },
 "nbformat": 4,
 "nbformat_minor": 1
}

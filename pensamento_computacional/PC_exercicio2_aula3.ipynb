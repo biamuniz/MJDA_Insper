{
  "nbformat": 4,
  "nbformat_minor": 0,
  "metadata": {
    "colab": {
      "name": "PC_exercicio2_aula3.ipynb",
      "provenance": []
    },
    "kernelspec": {
      "name": "python3",
      "display_name": "Python 3"
    },
    "language_info": {
      "name": "python"
    }
  },
  "cells": [
    {
      "cell_type": "markdown",
      "metadata": {
        "id": "NIf3dpT2I3YI"
      },
      "source": [
        "#Pensamento Computacional\n",
        "### Aluna: Bianca Muniz\n",
        "### Exercício 2: links do chat\n"
      ]
    },
    {
      "cell_type": "code",
      "metadata": {
        "id": "gcZW5kRY_L5m"
      },
      "source": [
        "##Carregando os arquivos\n",
        "\n",
        "a = open(\"GMT20210726-212633_Recording.txt\")\n",
        "b = open(\"GMT20210728-223542_Recording.txt\")\n",
        "c = open(\"GMT20210802-212614_Recording.txt\")\n",
        "d = open(\"GMT20210804-222232_Recording.txt\")\n",
        "e = open(\"GMT20210806-222707_Recording.txt\")\n",
        "f = open(\"GMT20210809-212840_Recording.txt\")\n",
        "g = open(\"GMT20210809-213308_Recording.txt\")\n",
        "h = open(\"GMT20210809-234715_Recording.txt\")\n",
        "i = open(\"GMT20210811-223050_Recording.txt\")\n",
        "j = open(\"GMT20210813-222825_Recording.txt\")\n",
        "k = open(\"GMT20210816-212317_Recording.txt\")\n",
        "l = open(\"GMT20210816-234945_Recording.txt\")\n",
        "m = open(\"GMT20210818-222332_Recording.txt\")\n",
        "n = open(\"GMT20210820-222253_Recording.txt\")\n"
      ],
      "execution_count": 71,
      "outputs": []
    },
    {
      "cell_type": "code",
      "metadata": {
        "colab": {
          "base_uri": "https://localhost:8080/"
        },
        "id": "SKhvndRuEsoG",
        "outputId": "d3622d81-ff65-4b0b-ac5e-5643afd934ef"
      },
      "source": [
        "for linha in a: #para cada linha no arquivo a\n",
        "  linha = linha.strip() #Sobrescreve a variável linha, sem a quebra de linha\n",
        "  partes = linha.split(\"\\t\") #Cria a variável partes, lista de strings que compõem a linha\n",
        "  if \"www.\" in linha: # Se tiver \"www\" na variável linha\n",
        "    print(partes[2]) # exibe o segundo item da lista partes (mensagem do chat)\n",
        "for linha in b:\n",
        "  linha = linha.strip()\n",
        "  partes = linha.split(\"\\t\")\n",
        "  if \"www.\" in linha:\n",
        "    print(partes[2])\n",
        "for linha in c:\n",
        "  linha = linha.strip()\n",
        "  partes = linha.split(\"\\t\")\n",
        "  if \"www.\" in linha:\n",
        "    print(partes[2])\n",
        "for linha in d:\n",
        "  linha = linha.strip()\n",
        "  partes = linha.split(\"\\t\")\n",
        "  if \"www.\" in linha:\n",
        "    print(partes[2])\n",
        "for linha in e:\n",
        "  linha = linha.strip()\n",
        "  partes = linha.split(\"\\t\")\n",
        "  if \"www.\" in linha:\n",
        "    print(partes[2])\n",
        "for linha in f:\n",
        "  linha = linha.strip()\n",
        "  partes = linha.split(\"\\t\")\n",
        "  if \"www.\" in linha:\n",
        "    print(partes[2])\n",
        "for linha in g:\n",
        "  linha = linha.strip()\n",
        "  partes = linha.split(\"\\t\")\n",
        "  if \"www.\" in linha:\n",
        "    print(partes[2])\n",
        "for linha in h:\n",
        "  linha = linha.strip()\n",
        "  partes = linha.split(\"\\t\")\n",
        "  if \"www.\" in linha:\n",
        "    print(partes[2])\n",
        "for linha in i:\n",
        "  linha = linha.strip()\n",
        "  partes = linha.split(\"\\t\")\n",
        "  if \"www.\" in linha:\n",
        "    print(partes[2])\n",
        "for linha in j:\n",
        "  linha = linha.strip()\n",
        "  partes = linha.split(\"\\t\")\n",
        "  if \"www.\" in linha:\n",
        "    print(partes[2])\n",
        "for linha in k:\n",
        "  linha = linha.strip()\n",
        "  partes = linha.split(\"\\t\")\n",
        "  if \"www.\" in linha:\n",
        "    print(partes[2])\n",
        "for linha in l:\n",
        "  linha = linha.strip()\n",
        "  partes = linha.split(\"\\t\")\n",
        "  if \"www.\" in linha:\n",
        "    print(partes[2])\n",
        "for linha in m:\n",
        "  linha = linha.strip()\n",
        "  partes = linha.split(\"\\t\")\n",
        "  if \"www.\" in linha:\n",
        "    print(partes[2])\n",
        "for linha in n:\n",
        "  linha = linha.strip()\n",
        "  partes = linha.split(\"\\t\")\n",
        "  if \"www.\" in linha:\n",
        "    print(partes[2])\n",
        "\n",
        "\n"
      ],
      "execution_count": 72,
      "outputs": [
        {
          "output_type": "stream",
          "text": [
            "veja se ajuda, tiago: https://www.online-tech-tips.com/computer-tips/how-to-raise-a-hand-in-a-zoom-meeting/\n",
            "https://www.nytimes.com/interactive/2016/04/01/us/police-bodycam-video.html\n",
            "https://www.washingtonpost.com/graphics/2020/world/corona-simulator/\n",
            "https://www.leiaogazeta.com.br/para-cada-infectado-pela-covid-19-alto-tiete-vacinou-cerca-de-4-pessoas-contra-a-doenca/\n",
            "https://www.netflix.com/br/title/81031373  Don't F**K with Cats: Hunting An Internet Killer\n",
            "https://www.pycursos.com/python-para-zumbis/\n",
            "https://www.bellingcat.com/\n",
            "https://www.amazon.com.br/American-Kingpin-Criminal-Mastermind-Behind/dp/1591848148\n",
            "https://www.primevideo.com/detail/Silk-Road/0OSFZN9A4HN76PT7BCABXY6GG8\n",
            "no Brasil há sites com consulta por CPF/nome, mas a LGPD ta dificultando (só empresa pode ter cadastro agora) e exige login. exemplo: https://www.checktudo.com.br/\n",
            "Tem o \"Tudo sobre Todos\" também, mas depois da LGPD eles também limitaram o acesso https://www.tudosobretodos.info/quemSomos\n",
            "1 - https://www.bbc.com/portuguese/brasil-56148670\n",
            "2 - https://www.nytimes.com/2020/01/09/video/iran-plane-missile.html\n",
            "3 - https://www.nytimes.com/pt/interactive/2019/02/20/world/americas/barragem-brumadinho-rompimento-brasil.html\n",
            "4 - https://www.nytimes.com/video/world/middleeast/100000005697485/russia-bombed-syrian-hospitals.html\n",
            "5 - https://www.metropoles.com/brasil/registros-mostram-400-filhas-pensionistas-de-militares-como-socias-de-empresas-milionarias\n",
            "Esse /r é bem legal: https://www.reddit.com/r/dataisbeautiful/\n",
            "https://www.theguardian.com/world/2018/jan/28/fitness-tracking-app-gives-away-location-of-secret-us-army-bases\n",
            "https://www.washingtonpost.com/graphics/2020/world/iran-coronavirus-outbreak-graves/\n",
            "https://www.deathbycaptcha.com/\n",
            "https://www.amazon.com.br/How-Charts-Lie-Getting-Information/dp/1324001569\n",
            "https://www.theguardian.com/news/datablog/2013/mar/15/john-snow-cholera-map\n",
            "https://www.geospatialrevolution.psu.edu/\n",
            "o livro do Hans tb foi citado na aula do Burgos https://www.amazon.com.br/Factfulness-h%C3%A1bito-libertador-opini%C3%B5es-baseadas/dp/8501116521\n",
            "https://www.gapminder.org/dollar-street\n",
            "http://www.metro.sp.gov.br/pesquisa-od/\n",
            "http://www.thebillionpricesproject.com/\n",
            "Paper: https://www.hbs.edu/ris/Publication%20Files/Cavallo_Alberto_J6_Are%20Online%20and%20Offline%20Prices%20Similar_2a1a63af-8938-4680-bb23-a850324b096a.pdf\n",
            "https://www.abraji.org.br/\n",
            "Ela que fez: https://www.gabrielacaesar.com/\n",
            "SSP https://www.gabrielacaesar.com/2020/09/08/captura-de-dados-ssp-sp/\n",
            "https://www.youtube.com/watch?v=miY87dhJjig\n",
            "https://www.tweetbinder.com/blog/twitter-geocode/\n",
            "https://www.facebook.com/watch/live/?v=832484457413912&ref=watch_permalink\n",
            "Achados e Pedidos também tem vários pedidos já feitos: https://www.achadosepedidos.org.br/\n",
            "http://www.consultaesic.cgu.gov.br/busca/SitePages/principal.aspx\n",
            "https://www.uol.com.br/tilt/noticias/redacao/2021/01/20/tratecov-app-sugere-tendencia-para-tratamento-precoce-de-covid-19.htm\n",
            "https://www.linkedin.com/in/ana-karla-andreatta-7b38821a9/detail/photo/\n"
          ],
          "name": "stdout"
        }
      ]
    }
  ]
}
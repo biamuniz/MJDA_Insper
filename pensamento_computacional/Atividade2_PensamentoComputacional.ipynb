{
  "nbformat": 4,
  "nbformat_minor": 0,
  "metadata": {
    "colab": {
      "name": "Atividade2_PensamentoComputacional.ipynb",
      "provenance": []
    },
    "kernelspec": {
      "display_name": "Python 3",
      "name": "python3"
    },
    "language_info": {
      "name": "python"
    }
  },
  "cells": [
    {
      "cell_type": "code",
      "metadata": {
        "colab": {
          "background_save": true,
          "base_uri": "https://localhost:8080/",
          "height": 128
        },
        "id": "ETmHwU4I0b67",
        "outputId": "cc9d4078-e5d3-413e-f49f-53b33f6af906"
      },
      "source": [
        "#Definindo perguntas e alternativas\n",
        "instrucao = print(\"Responda com a alternativa que melhor se encaixa na sua rotina\")\n",
        "pergunta1 = print(\"1) Você dorme: \\na) Sempre no mesmo horário\\nb) Sempre no mesmo horário, exceto fim de semana\\nc) Cada dia da semana em um horário\\nd) Não tenho horário fixo para dormir\")\n",
        "r1 = input(\"Sua resposta: \"\\n)\n",
        "pergunta2 = print(\"2) Durante a noite, seu celular fica: \\na) Em outro cômodo\\nb) No quarto, mas longe da cama\\nc) No quarto, mas na mesa de cabeceira\\nd) Do meu lado, na cama\")\n",
        "r2 = input(\"Sua resposta: \")\n",
        "pergunta_3 = print(\"3) Quantas horas você tem para dormir diariamente?\\na) 7 a 9 horas\\nb) 6 horas\\nc) 5 horas\\nd) Menos de 5 horas\")\n",
        "r3 = input(\"Sua resposta: \")\n",
        "pergunta_4 = print(\"4) Você usa telas até quanto tempo antes de dormir?\\na) 2 horas\\nb) 1 hora\\nc) Até a hora de dormir\\nd) Adormeço assistindo a telas\")\n",
        "r4 = input(\"Sua resposta: \")\n",
        "pergunta_5 = print(\"Você faz exercícios\\na) Pela manhã\\nb) Pela tarde\\nc) Pela noite\\nd) Não faço exercícios diariamente\")\n",
        "r5 = input(\"Sua resposta: \")\n",
        "\n",
        "#Atribuindo valores para cada alternativa\n",
        "if r1 == \"a\":\n",
        "  pontor1 = 15\n",
        "elif r1 == \"b\": \n",
        "  pontor1 = 10\n",
        "elif r1 == \"c\":\n",
        "  pontor1 = 5\n",
        "else:\n",
        "  pontor1 = 0\n",
        "\n",
        "if r2 == \"a\":\n",
        "  pontor2 = 15\n",
        "elif r2 == \"b\": \n",
        "  pontor2 = 10\n",
        "elif r2 == \"c\":\n",
        "  pontor2 = 5\n",
        "else:\n",
        "  pontor2 = 0\n",
        "\n",
        "if r3 == \"a\":\n",
        "  pontor3 = 15\n",
        "elif r3 == \"b\": \n",
        "  pontor3 = 10\n",
        "elif r3 == \"c\":\n",
        "  pontor3 = 5\n",
        "else:\n",
        "  pontor3 = 0\n",
        "\n",
        "if r4 == \"a\":\n",
        "  pontor4 = 15\n",
        "elif r4 == \"b\": \n",
        "  pontor4 = 10\n",
        "elif r4 == \"c\":\n",
        "  pontor4 = 5\n",
        "else:\n",
        "  pontor4 = 0\n",
        "\n",
        "if r5 == \"a\":\n",
        "  pontor5 = 15\n",
        "elif r5 == \"b\": \n",
        "  pontor5 = 10\n",
        "elif r5 == \"c\":\n",
        "  pontor5 = 5\n",
        "else:\n",
        "  pontor5 = 0\n",
        "\n",
        "#Cálculo do resultado\n",
        "resultado = int(pontor1) + int(pontor2) + int(pontor3) + int(pontor4) + int(pontor5)\n",
        "\n",
        "#Definição do resultado\n",
        "if resultado > 60:\n",
        "  print(\"Parabéns, você está fazendo uma higiene do seu sono correta\")\n",
        "elif resultado > 41:\n",
        "  print(\"Você poderia melhorar algumas coisas na sua noite\")\n",
        "elif resultado > 21:\n",
        "  print(\"Que tal pensar melhor nas suas noites de sono?\")\n",
        "elif resultado < 20:\n",
        "  print(\"Dê valor ao seu sono!\")"
      ],
      "execution_count": null,
      "outputs": [
        {
          "output_type": "stream",
          "text": [
            "Responda com a alternativa que melhor se encaixa na sua rotina\n",
            "1) Você dorme: \n",
            "a) Sempre no mesmo horário\n",
            "b) Sempre no mesmo horário, exceto fim de semana\n",
            "c) Cada dia da semana em um horário\n",
            "d) Não tenho horário fixo para dormir\n",
            "2) Durante a noite, seu celular fica: \n",
            "a) Em outro cômodo\n",
            "b) No quarto, mas longe da cama\n",
            "c) No quarto, mas na mesa de cabeceira\n",
            "d) Do meu lado, na cama\n"
          ],
          "name": "stdout"
        }
      ]
    }
  ]
}
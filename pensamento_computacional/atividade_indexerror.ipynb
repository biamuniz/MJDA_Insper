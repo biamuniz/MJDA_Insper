{
  "nbformat": 4,
  "nbformat_minor": 0,
  "metadata": {
    "colab": {
      "name": "atividade_indexerror.ipynb",
      "provenance": [],
      "authorship_tag": "ABX9TyN2l4uY9i00cVWQ/WX1aMAO",
      "include_colab_link": true
    },
    "kernelspec": {
      "name": "python3",
      "display_name": "Python 3"
    },
    "language_info": {
      "name": "python"
    }
  },
  "cells": [
    {
      "cell_type": "markdown",
      "metadata": {
        "id": "view-in-github",
        "colab_type": "text"
      },
      "source": [
        "<a href=\"https://colab.research.google.com/github/biamuniz/mjda_insper_pcomputacional/blob/main/atividade_indexerror.ipynb\" target=\"_parent\"><img src=\"https://colab.research.google.com/assets/colab-badge.svg\" alt=\"Open In Colab\"/></a>"
      ]
    },
    {
      "cell_type": "markdown",
      "metadata": {
        "id": "0-w9sfbfYVoc"
      },
      "source": [
        "# *exception* **IndexError**\n",
        "\n",
        "Levantada quando um índice de alguma sequência está fora do intervalo. (Índices de fatia são truncados silenciosamente para cair num intervalo permitido; se um índice não for um inteiro, TypeError é levantada.)"
      ]
    },
    {
      "cell_type": "code",
      "metadata": {
        "id": "t9LPB_0BWF2J"
      },
      "source": [
        "chamada = [\"Bianca\", \"Juliana\", \"Reinaldo\", \"Vinicius\"]\n",
        "# a lista tem os índices\n",
        "# 0: Bianca\n",
        "# 1: Juliana\n",
        "# 2: Reinaldo\n",
        "# 3: Vinicius"
      ],
      "execution_count": 30,
      "outputs": []
    },
    {
      "cell_type": "code",
      "metadata": {
        "colab": {
          "base_uri": "https://localhost:8080/"
        },
        "id": "ZMDqRysKbR9i",
        "outputId": "d4b9783b-9162-4773-f7bf-4612846a303d"
      },
      "source": [
        "#Quero saber o primeiro elemento da lista (indíce: 0). Como está dentro do intervalo, não terá erro\n",
        "print(chamada[0])"
      ],
      "execution_count": 31,
      "outputs": [
        {
          "output_type": "stream",
          "name": "stdout",
          "text": [
            "Bianca\n"
          ]
        }
      ]
    },
    {
      "cell_type": "code",
      "metadata": {
        "colab": {
          "base_uri": "https://localhost:8080/"
        },
        "id": "U4AALlmyZSwh",
        "outputId": "f956156b-e501-4442-c7a3-96f9d68a672d"
      },
      "source": [
        "# Não há erro se definir um intervalo; caso o final do intervalo seja maior que o permitido, será retornado o último dentro do intervalo\n",
        "print(chamada[2:5])\n",
        "print(chamada[2:7])\n",
        "print(chamada[2:100])"
      ],
      "execution_count": 22,
      "outputs": [
        {
          "output_type": "stream",
          "name": "stdout",
          "text": [
            "['Reinaldo', 'Vinicius']\n",
            "['Reinaldo', 'Vinicius']\n",
            "['Reinaldo', 'Vinicius']\n"
          ]
        }
      ]
    },
    {
      "cell_type": "code",
      "metadata": {
        "colab": {
          "base_uri": "https://localhost:8080/",
          "height": 183
        },
        "id": "n7WIBM0tcboe",
        "outputId": "7e9fa356-fbd0-4162-aaa4-9f39641a2aad"
      },
      "source": [
        "# Mas se eu quiser saber o índice 7 da lista?\n",
        "print(chamada[7]) # como ele está fora do intervalo, será levantado um IndexError: list out of range"
      ],
      "execution_count": 26,
      "outputs": [
        {
          "output_type": "error",
          "ename": "IndexError",
          "evalue": "ignored",
          "traceback": [
            "\u001b[0;31m---------------------------------------------------------------------------\u001b[0m",
            "\u001b[0;31mIndexError\u001b[0m                                Traceback (most recent call last)",
            "\u001b[0;32m<ipython-input-26-3465f6551a57>\u001b[0m in \u001b[0;36m<module>\u001b[0;34m()\u001b[0m\n\u001b[1;32m      1\u001b[0m \u001b[0;31m# Mas se eu quiser saber o índice 7 da lista?\u001b[0m\u001b[0;34m\u001b[0m\u001b[0;34m\u001b[0m\u001b[0;34m\u001b[0m\u001b[0m\n\u001b[0;32m----> 2\u001b[0;31m \u001b[0mprint\u001b[0m\u001b[0;34m(\u001b[0m\u001b[0mchamada\u001b[0m\u001b[0;34m[\u001b[0m\u001b[0;36m7\u001b[0m\u001b[0;34m]\u001b[0m\u001b[0;34m)\u001b[0m \u001b[0;31m# como ele está fora do intervalo, será levantado um IndexError: list out of range\u001b[0m\u001b[0;34m\u001b[0m\u001b[0;34m\u001b[0m\u001b[0m\n\u001b[0m",
            "\u001b[0;31mIndexError\u001b[0m: list index out of range"
          ]
        }
      ]
    },
    {
      "cell_type": "markdown",
      "metadata": {
        "id": "D34jss4vdPd3"
      },
      "source": [
        "## **Bônus**: TypeError"
      ]
    },
    {
      "cell_type": "code",
      "metadata": {
        "colab": {
          "base_uri": "https://localhost:8080/",
          "height": 183
        },
        "id": "MSP_15qcbMD-",
        "outputId": "e31daa23-a72e-46e8-ba33-9e2369222d54"
      },
      "source": [
        "# Se eu quiser chamar uma string? ou o indíce 1.5 (algo entre Juliana e Reinaldo)?\n",
        "print(chamada[\"Bianca\"])  #TypeError: errei o tipo! o índice deve ser interger ou uma fatia (intervalo), não uma string\n",
        "print(chamada[1.5]) #TypeError: errei o tipo! o índice não pode ser float"
      ],
      "execution_count": 29,
      "outputs": [
        {
          "output_type": "error",
          "ename": "TypeError",
          "evalue": "ignored",
          "traceback": [
            "\u001b[0;31m---------------------------------------------------------------------------\u001b[0m",
            "\u001b[0;31mTypeError\u001b[0m                                 Traceback (most recent call last)",
            "\u001b[0;32m<ipython-input-29-78ffe838ef4e>\u001b[0m in \u001b[0;36m<module>\u001b[0;34m()\u001b[0m\n\u001b[1;32m      1\u001b[0m \u001b[0;31m# Se eu quiser chamar uma string? ou o indíce 1.5 (algo entre Juliana e Reinaldo)?\u001b[0m\u001b[0;34m\u001b[0m\u001b[0;34m\u001b[0m\u001b[0;34m\u001b[0m\u001b[0m\n\u001b[0;32m----> 2\u001b[0;31m \u001b[0mprint\u001b[0m\u001b[0;34m(\u001b[0m\u001b[0mchamada\u001b[0m\u001b[0;34m[\u001b[0m\u001b[0;36m1.5\u001b[0m\u001b[0;34m]\u001b[0m\u001b[0;34m)\u001b[0m \u001b[0;31m#TypeError: errei o tipo! o índice deve ser interger ou uma fatia (intervalo), não uma string\u001b[0m\u001b[0;34m\u001b[0m\u001b[0;34m\u001b[0m\u001b[0m\n\u001b[0m",
            "\u001b[0;31mTypeError\u001b[0m: list indices must be integers or slices, not float"
          ]
        }
      ]
    }
  ]
}
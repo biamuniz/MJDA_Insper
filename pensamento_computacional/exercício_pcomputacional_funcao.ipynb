{
  "nbformat": 4,
  "nbformat_minor": 0,
  "metadata": {
    "colab": {
      "name": "exercício_pcomputacional_funcao.ipynb",
      "provenance": [],
      "collapsed_sections": []
    },
    "kernelspec": {
      "display_name": "Python 3",
      "name": "python3"
    },
    "language_info": {
      "name": "python"
    }
  },
  "cells": [
    {
      "cell_type": "markdown",
      "metadata": {
        "id": "K2zunGftyVm7"
      },
      "source": [
        "#Cálculo da média do Sisu para os cursos da Universidade de São Paulo\n",
        "## Aluna: Bianca Muniz\n",
        "A média do Sistema de Seleção Unificada (Sisu) é calculada a partir de diferentes pesos para cada prova do Enem, de acordo com o curso selecionado pelo participante do processo seletivo.\n",
        "\n",
        "Este programa tem como objetivo calcular a média do Sisu seguindo os diferentes pesos para o curso.\n"
      ]
    },
    {
      "cell_type": "code",
      "metadata": {
        "id": "0BmLHTpyxrAL"
      },
      "source": [
        "curso = input(\"Digite o curso da USP de seu interesse no Sistema de Seleção Unificada: \")"
      ],
      "execution_count": null,
      "outputs": []
    },
    {
      "cell_type": "code",
      "metadata": {
        "id": "1w3dfddBzJFU"
      },
      "source": [
        "def pergunta_nota_linguagens():\n",
        "  nota1 = input(\"Digite sua nota de Linguagens, Códigos e suas Tecnologias: \")\n",
        "  nota1_convertido = float(nota1)\n",
        "  peso1 = input(\"Digite o peso da nota de Linguagens, Códigos e suas Tecnologias para o seu curso: \")\n",
        "  peso1_convertido = float(peso1)\n",
        "  return nota1_convertido*peso1_convertido\n",
        "  return peso1_convertido"
      ],
      "execution_count": 23,
      "outputs": []
    },
    {
      "cell_type": "code",
      "metadata": {
        "id": "y_gZdi9pzMSd"
      },
      "source": [
        "def pergunta_nota_matematica():\n",
        "  nota2 = input(\"Digite sua nota de Matemática e suas Tecnologias: \")\n",
        "  nota2_convertido = float(nota2)\n",
        "  peso2 = input(\"Digite o peso da nota de Matemática e suas Tecnologias para o seu curso: \")\n",
        "  peso2_convertido = float(peso2)\n",
        "  return nota2_convertido*peso2_convertido"
      ],
      "execution_count": 17,
      "outputs": []
    },
    {
      "cell_type": "code",
      "metadata": {
        "id": "tDOl0iJ9zPd6"
      },
      "source": [
        "def pergunta_nota_humanas():\n",
        "  nota3 = input(\"Digite sua nota de Ciências Humanas e suas Tecnologias: \")\n",
        "  nota3_convertido = float(nota3)\n",
        "  peso3 = input(\"Digite o peso da nota de Ciências Humanas e suas Tecnologias para o seu curso: \")\n",
        "  peso3_convertido = float(peso3)\n",
        "  return nota3_convertido*peso3_convertido"
      ],
      "execution_count": 18,
      "outputs": []
    },
    {
      "cell_type": "code",
      "metadata": {
        "id": "_lAPwUhHtosQ"
      },
      "source": [
        "def pergunta_nota_natureza():\n",
        "  nota4 = input(\"Digite sua nota de Ciências da Natureza e suas Tecnologias: \")\n",
        "  nota4_convertido = float(nota4)\n",
        "  peso4 = input(\"Digite o peso da nota de Ciências da Natureza e suas Tecnologias para o seu curso: \")\n",
        "  peso4_convertido = float(peso4)\n",
        "  return nota4_convertido*peso4_convertido"
      ],
      "execution_count": 19,
      "outputs": []
    },
    {
      "cell_type": "code",
      "metadata": {
        "id": "gKoRweK0zSIj"
      },
      "source": [
        "def pergunta_nota_redacao():\n",
        "  nota5 = input(\"Digite sua nota de Redação: \")\n",
        "  nota5_convertido = float(nota5)\n",
        "  peso5 = input(\"Digite o peso da nota de Redação: \")\n",
        "  peso5_convertido = float(peso5)\n",
        "  return nota5_convertido*peso5_convertido"
      ],
      "execution_count": 20,
      "outputs": []
    },
    {
      "cell_type": "code",
      "metadata": {
        "id": "wPRbfhsLvlgO"
      },
      "source": [
        "linguagens = pergunta_nota_linguagens()\n",
        "matematica = pergunta_nota_matematica()\n",
        "humanas = pergunta_nota_humanas()\n",
        "natureza = pergunta_nota_natureza()\n",
        "redacao = pergunta_nota_redacao()\n",
        "nota = (linguagens + natureza + matematica + humanas + redacao)/9\n",
        "print(f\"Sua nota para o curso de {curso} é: {nota}\")"
      ],
      "execution_count": null,
      "outputs": []
    }
  ]
}

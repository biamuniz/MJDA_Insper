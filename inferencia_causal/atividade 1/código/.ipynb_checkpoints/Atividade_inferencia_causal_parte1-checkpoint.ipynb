{
 "cells": [
  {
   "cell_type": "markdown",
   "id": "85d27133",
   "metadata": {},
   "source": [
    "## Manipulando os arquivos\n",
    "Código para abrir os arquivos do exercício, filtrar pela UF de interesse e salvar os novos dataframes em arquivos CSV menores"
   ]
  },
  {
   "cell_type": "code",
   "execution_count": 33,
   "id": "0dc81598",
   "metadata": {},
   "outputs": [],
   "source": [
    "import pandas as pd # Importando a biblioteca pandas para manipular os arquivos\n",
    "despesas = pd.read_csv(\"despesas_2020_abridged.txt\", sep=\",\", error_bad_lines=False) #Criando o dataframe despesas\n",
    "prefeitos = pd.read_csv(\"prefeitos_2020_abridged.txt\", sep=\",\", error_bad_lines=False) #Criando o dataframe prefeitos\n",
    "resultados = pd.read_csv(\"results_2020_abridged.txt\", sep=\",\", error_bad_lines=False) #Criando o dataframe resultados"
   ]
  },
  {
   "cell_type": "code",
   "execution_count": 38,
   "id": "26a9f2f3",
   "metadata": {},
   "outputs": [],
   "source": [
    "# Criando novos dataframes (final: \"_rj\") para \"abrigar\" os dataframes filtrados\n",
    "## Filtro: registros do Rio de Janeiro\n",
    "despesas_rj = despesas.loc[despesas[\"uf\"] == \"RJ\"] \n",
    "prefeitos_rj = prefeitos.loc[prefeitos[\"sigla_uf\"] == \"RJ\"]\n",
    "resultados_rj = resultados.loc[resultados[\"sigla_uf\"] == \"RJ\"]"
   ]
  },
  {
   "cell_type": "code",
   "execution_count": 17,
   "id": "f2f8b0f6",
   "metadata": {},
   "outputs": [],
   "source": [
    "# Salvando cada dataframe filtrado em arquivos CSV\n",
    "despesas_rj.to_csv(\"despesas_rio.csv\", sep=';', encoding='utf-8')\n",
    "prefeitos_rj.to_csv(\"prefeitos_rio.csv\", sep=';', encoding='utf-8')\n",
    "resultados_rj.to_csv(\"resultados_rio.csv\", sep=';', encoding='utf-8')"
   ]
  }
 ],
 "metadata": {
  "kernelspec": {
   "display_name": "Python 3 (ipykernel)",
   "language": "python",
   "name": "python3"
  },
  "language_info": {
   "codemirror_mode": {
    "name": "ipython",
    "version": 3
   },
   "file_extension": ".py",
   "mimetype": "text/x-python",
   "name": "python",
   "nbconvert_exporter": "python",
   "pygments_lexer": "ipython3",
   "version": "3.9.13"
  }
 },
 "nbformat": 4,
 "nbformat_minor": 5
}

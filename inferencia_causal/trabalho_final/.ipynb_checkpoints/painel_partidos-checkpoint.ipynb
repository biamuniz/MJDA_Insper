{
 "cells": [
  {
   "cell_type": "code",
   "execution_count": 1,
   "id": "e567f921",
   "metadata": {},
   "outputs": [
    {
     "name": "stderr",
     "output_type": "stream",
     "text": [
      "C:\\Users\\lucas\\anaconda3\\lib\\site-packages\\IPython\\core\\interactiveshell.py:3444: DtypeWarning: Columns (18) have mixed types.Specify dtype option on import or set low_memory=False.\n",
      "  exec(code_obj, self.user_global_ns, self.user_ns)\n"
     ]
    }
   ],
   "source": [
    "import os\n",
    "import pandas as pd\n",
    "import numpy as np\n",
    "from statsmodels.formula.api import ols\n",
    "\n",
    "os.getcwd()\n",
    "os.chdir('C:\\\\Users\\\\lucas\\\\Dropbox\\\\Working papers\\\\2021_gasoline\\\\data\\\\raw\\\\despesas_2016_2020\\\\') #meus dados estão aqui\n",
    "\n",
    "d2016 = pd.read_csv('despesa_2016_prefeitos.txt', sep = '\\t', \n",
    "                    encoding = \"latin-1\", # Precisei declarar o encoding\n",
    "                    on_bad_lines='skip'# E precisei incluir essa opção para lidar com um erro de delimeter\n",
    "                    , decimal=',') \n"
   ]
  },
  {
   "cell_type": "code",
   "execution_count": 2,
   "id": "95665c15",
   "metadata": {},
   "outputs": [],
   "source": [
    "d2020 = pd.read_csv('despesa_2020_prefeitos.csv', sep = ';', encoding = \"latin-1\",\n",
    "                    on_bad_lines='skip',\n",
    "                    decimal = ',') # E precisei incluir essa opção para lidar com um erro de delimeter"
   ]
  },
  {
   "cell_type": "markdown",
   "id": "ec6c4d2d",
   "metadata": {},
   "source": [
    "OK, primeiro eu quero criar colunas que mostrem as seguintes categorias:\n",
    "\n",
    "(a) gráfica\n",
    "(b) gastos com carro e com gasolina\n",
    "(c) gastos com gasolina\n",
    "\n",
    "Poderia escolher outros, e vocês podem escolher o que for interessante para vocês.\n",
    "\n",
    "Primeiro, temos que escolher os valores a serem coletados. Para isso, precisamos saber quais são todas as possíveis categorias. Além disso, o TSE não foi consistente. A coluna que descreve os gastos em 2020 é diferente de 2016."
   ]
  },
  {
   "cell_type": "code",
   "execution_count": 3,
   "id": "93a41899",
   "metadata": {
    "scrolled": true
   },
   "outputs": [
    {
     "name": "stdout",
     "output_type": "stream",
     "text": [
      "['Alimentação', 'Aquisição/Doação de bens móveis ou imóveis', 'Atividades de militância e mobilização de rua', 'Baixa de Estimaveis - Alimentação', 'Baixa de Estimaveis - Atividades de militância e mobilização de rua', 'Baixa de Estimaveis - Cessão ou locação de veículos', 'Baixa de Estimaveis - Combustíveis e lubrificantes', 'Baixa de Estimaveis - Comícios', 'Baixa de Estimaveis - Correspondências e despesas postais', 'Baixa de Estimaveis - Criação e inclusão de páginas na internet', 'Baixa de Estimaveis - Despesas com Hospedagem', 'Baixa de Estimaveis - Despesas com pessoal', 'Baixa de Estimaveis - Despesas com transporte ou deslocamento', 'Baixa de Estimaveis - Diversas a especificar', 'Baixa de Estimaveis - Encargos financeiros, taxas bancárias e/ou op. cartão de crédito', 'Baixa de Estimaveis - Encargos sociais', 'Baixa de Estimaveis - Energia elétrica', 'Baixa de Estimaveis - Eventos de promoção da candidatura', 'Baixa de Estimaveis - Impostos, contribuições e taxas', 'Baixa de Estimaveis - Locação/cessão de bens imóveis', 'Baixa de Estimaveis - Locação/cessão de bens móveis (exceto veículos)', 'Baixa de Estimaveis - Materiais de expediente', 'Baixa de Estimaveis - Multas eleitorais', 'Baixa de Estimaveis - Pesquisas ou testes eleitorais', 'Baixa de Estimaveis - Produção de jingles, vinhetas e slogans', 'Baixa de Estimaveis - Produção de programas de rádio, televisão ou vídeo', 'Baixa de Estimaveis - Pré-instalação física de comitê de campanha', 'Baixa de Estimaveis - Publicidade por adesivos', 'Baixa de Estimaveis - Publicidade por carros de som', 'Baixa de Estimaveis - Publicidade por jornais e revistas', 'Baixa de Estimaveis - Publicidade por materiais impressos', 'Baixa de Estimaveis - Reembolsos de gastos realizados por eleitores', 'Baixa de Estimaveis - Serviços prestados por terceiros', 'Baixa de Estimaveis - Serviços próprios prestados por terceiros', 'Baixa de Estimaveis - Telefone', 'Baixa de Estimaveis - Água', 'Cessão ou locação de veículos', 'Combustíveis e lubrificantes', 'Comícios', 'Correspondências e despesas postais', 'Criação e inclusão de páginas na internet', 'Despesas com Hospedagem', 'Despesas com pessoal', 'Despesas com transporte ou deslocamento', 'Diversas a especificar', 'Doações financeiras a outros candidatos/partidos', 'Encargos financeiros, taxas bancárias e/ou op. cartão de crédito', 'Encargos sociais', 'Energia elétrica', 'Eventos de promoção da candidatura', 'Impostos, contribuições e taxas', 'Locação/cessão de bens imóveis', 'Locação/cessão de bens móveis (exceto veículos)', 'Materiais de expediente', 'Multas eleitorais', 'Pesquisas ou testes eleitorais', 'Produção de jingles, vinhetas e slogans', 'Produção de programas de rádio, televisão ou vídeo', 'Pré-instalação física de comitê de campanha', 'Publicidade por adesivos', 'Publicidade por carros de som', 'Publicidade por jornais e revistas', 'Publicidade por materiais impressos', 'Reembolsos de gastos realizados por eleitores', 'Serviços prestados por terceiros', 'Serviços próprios prestados por terceiros', 'Telefone', 'Água']\n",
      "['Alimentação', 'Aquisição/Doação de bens móveis ou imóveis', 'Atividades de militância e mobilização de rua', 'Baixa de Estimaveis - Alimentação', 'Baixa de Estimaveis - Atividades de militância e mobilização de rua', 'Baixa de Estimaveis - Cessão ou locação de veículos', 'Baixa de Estimaveis - Combustíveis e lubrificantes', 'Baixa de Estimaveis - Comícios', 'Baixa de Estimaveis - Correspondências e despesas postais', 'Baixa de Estimaveis - Criação e inclusão de páginas na internet', 'Baixa de Estimaveis - Despesas com Hospedagem', 'Baixa de Estimaveis - Despesas com pessoal', 'Baixa de Estimaveis - Despesas com transporte ou deslocamento', 'Baixa de Estimaveis - Diversas a especificar', 'Baixa de Estimaveis - Encargos financeiros, taxas bancárias e/ou op. cartão de crédito', 'Baixa de Estimaveis - Encargos sociais', 'Baixa de Estimaveis - Energia elétrica', 'Baixa de Estimaveis - Eventos de promoção da candidatura', 'Baixa de Estimaveis - Impostos, contribuições e taxas', 'Baixa de Estimaveis - Locação/cessão de bens imóveis', 'Baixa de Estimaveis - Locação/cessão de bens móveis (exceto veículos)', 'Baixa de Estimaveis - Materiais de expediente', 'Baixa de Estimaveis - Multas eleitorais', 'Baixa de Estimaveis - Pesquisas ou testes eleitorais', 'Baixa de Estimaveis - Produção de jingles, vinhetas e slogans', 'Baixa de Estimaveis - Produção de programas de rádio, televisão ou vídeo', 'Baixa de Estimaveis - Pré-instalação física de comitê de campanha', 'Baixa de Estimaveis - Publicidade por adesivos', 'Baixa de Estimaveis - Publicidade por carros de som', 'Baixa de Estimaveis - Publicidade por jornais e revistas', 'Baixa de Estimaveis - Publicidade por materiais impressos', 'Baixa de Estimaveis - Reembolsos de gastos realizados por eleitores', 'Baixa de Estimaveis - Serviços prestados por terceiros', 'Baixa de Estimaveis - Serviços próprios prestados por terceiros', 'Baixa de Estimaveis - Telefone', 'Baixa de Estimaveis - Água', 'Cessão ou locação de veículos', 'Combustíveis e lubrificantes', 'Comícios', 'Correspondências e despesas postais', 'Criação e inclusão de páginas na internet', 'Despesas com Hospedagem', 'Despesas com pessoal', 'Despesas com transporte ou deslocamento', 'Diversas a especificar', 'Doações financeiras a outros candidatos/partidos', 'Encargos financeiros, taxas bancárias e/ou op. cartão de crédito', 'Encargos sociais', 'Energia elétrica', 'Eventos de promoção da candidatura', 'Impostos, contribuições e taxas', 'Locação/cessão de bens imóveis', 'Locação/cessão de bens móveis (exceto veículos)', 'Materiais de expediente', 'Multas eleitorais', 'Pesquisas ou testes eleitorais', 'Produção de jingles, vinhetas e slogans', 'Produção de programas de rádio, televisão ou vídeo', 'Pré-instalação física de comitê de campanha', 'Publicidade por adesivos', 'Publicidade por carros de som', 'Publicidade por jornais e revistas', 'Publicidade por materiais impressos', 'Reembolsos de gastos realizados por eleitores', 'Serviços prestados por terceiros', 'Serviços próprios prestados por terceiros', 'Telefone', 'Água']\n"
     ]
    }
   ],
   "source": [
    "# primeiro, verificar as categorias.\n",
    "\n",
    "cat_2016 = d2016['Tipo despesa'].unique() #retorna os valores únicos\n",
    "print(sorted(cat_2016)) #coloca em ordem alfabética\n",
    "\n",
    "cat_2020 = d2020['DS_ORIGEM_DESPESA'].unique()\n",
    "print(sorted(cat_2016))\n"
   ]
  },
  {
   "cell_type": "code",
   "execution_count": 5,
   "id": "22e0328f",
   "metadata": {},
   "outputs": [],
   "source": [
    "# OK, agora vamos criar uma coluna que denote \"1\" quando uma descrição se encaixa no que queremos coletar.\n",
    "\n",
    "# antes, vamos criar uma lista com valores que nos interessam para cada coluna (eu posso ter esquecido de algum valor)\n",
    "\n",
    "grafica = ['Publicidade por materiais impressos','Publicidade por adesivo','Baixa de Estimaveis - Publicidade por materiais impressos','Baixa de Estimaveis - Publicidade por adesivos']\n",
    "\n",
    "carro_gas = ['Combustíveis e lubrificantes','Cessão ou locação de veículos','Baixa de Estimaveis - Cessão ou locação de veículos','Despesas com transporte ou deslocamento','Baixa de Estimaveis - Combustíveis e lubrificantes','Baixa de Estimaveis - Despesas com transporte ou deslocamento']\n",
    "\n",
    "gas = ['Combustíveis e lubrificantes','Baixa de Estimaveis - Combustíveis e lubrificantes']"
   ]
  },
  {
   "cell_type": "code",
   "execution_count": 6,
   "id": "36fd2aed",
   "metadata": {},
   "outputs": [],
   "source": [
    "# Em seguida, vamos utilizar uma função do pandas para fazer o seguinte: \n",
    "# veja se o valor na linha corresponde a algum dos valores em uma lista. Transforme TRUE and FALSE em 1 e 0.\n",
    "\n",
    "d2016['grafica'] = d2016['Tipo despesa'].isin(grafica).astype(int)\n",
    "d2016['carro_gas'] = d2016['Tipo despesa'].isin(carro_gas).astype(int)\n",
    "d2016['gas'] = d2016['Tipo despesa'].isin(gas).astype(int)"
   ]
  },
  {
   "cell_type": "code",
   "execution_count": 7,
   "id": "c997db48",
   "metadata": {},
   "outputs": [],
   "source": [
    "d2020['grafica'] = d2020['DS_ORIGEM_DESPESA'].isin(grafica).astype(int)\n",
    "d2020['carro_gas'] = d2020['DS_ORIGEM_DESPESA'].isin(carro_gas).astype(int)\n",
    "d2020['gas'] = d2020['DS_ORIGEM_DESPESA'].isin(gas).astype(int)"
   ]
  },
  {
   "cell_type": "code",
   "execution_count": null,
   "id": "9137c276",
   "metadata": {},
   "outputs": [],
   "source": [
    "# agora vamos criar variáveis \n",
    "\n",
    "# d2016['total_candidato'] = d2016.groupby(['CPF do candidato'])['Valor despesa'].transform('sum')\n",
    "d2016['total_partido_uf'] = d2016.groupby(['Número candidato','UF'])['Valor despesa'].transform('sum')\n",
    "\n",
    "#OK, não encontrei um melhor jeito\n",
    "d2016_grafica = d2016[d2016['grafica'] == 1]\n",
    "d2016_grafica['total_partido_grafica'] = d2016_grafica.groupby(['Número candidato','UF'])['Valor despesa'].transform('sum')\n",
    "d2016_carro_gas = d2016[d2016['carro_gas'] == 1]\n",
    "d2016_carro_gas['total_partido_carro_gas'] = d2016_carro_gas.groupby(['Número candidato','UF'])['Valor despesa'].transform('sum')\n",
    "d2016_gas = d2016[d2016['gas'] == 1]\n",
    "d2016_gas['total_partido_gas'] = d2016_gas.groupby(['Número candidato','UF'])['Valor despesa'].transform('sum')\n",
    "\n",
    "# A advertência é sobre má alocação de memória. vou ignorar, mas se estive em uma base ainda maior eu deveria levar em consideração\n",
    "\n",
    "\n",
    "\n",
    "d2016 = pd.merge(d2016, d2016_grafica[['Número candidato','UF','total_partido_grafica']].drop_duplicates(), \n",
    "                       how = 'left', \n",
    "                       left_on = ['Número candidato','UF'], \n",
    "                       right_on = ['Número candidato','UF'])\n",
    "\n",
    "d2016 = pd.merge(d2016, d2016_carro_gas[['Número candidato','UF','total_partido_carro_gas']].drop_duplicates(), \n",
    "                       how = 'left', \n",
    "                       left_on = ['Número candidato','UF'], \n",
    "                       right_on = ['Número candidato','UF'])\n",
    "\n",
    "d2016 = pd.merge(d2016, d2016_gas[['Número candidato','UF','total_partido_gas']].drop_duplicates(), \n",
    "                       how = 'left', \n",
    "                       left_on = ['Número candidato','UF'], \n",
    "                       right_on = ['Número candidato','UF'])\n",
    "                 \n",
    "                 \n",
    "                "
   ]
  },
  {
   "cell_type": "code",
   "execution_count": null,
   "id": "4771589f",
   "metadata": {
    "scrolled": true
   },
   "outputs": [],
   "source": [
    "# agora vamos criar variáveis para 2020\n",
    "\n",
    "# d2020['total_candidato'] = d2020.groupby(['CPF do candidato'])['VR_DESPESA_CONTRATADA'].transform('sum')\n",
    "d2020['total_partido_uf'] = d2020.groupby(['NR_PARTIDO','SG_UF'])['VR_DESPESA_CONTRATADA'].transform('sum')\n",
    "\n",
    "#OK, não encontrei um melhor jeito\n",
    "d2020_grafica = d2020[d2020['grafica'] == 1]\n",
    "d2020_grafica['total_partido_grafica'] = d2020_grafica.groupby(['NR_PARTIDO','SG_UF'])['VR_DESPESA_CONTRATADA'].transform('sum')\n",
    "d2020_carro_gas = d2020[d2020['carro_gas'] == 1]\n",
    "d2020_carro_gas['total_partido_carro_gas'] = d2020_carro_gas.groupby(['NR_PARTIDO','SG_UF'])['VR_DESPESA_CONTRATADA'].transform('sum')\n",
    "d2020_gas = d2020[d2020['gas'] == 1]\n",
    "d2020_gas['total_partido_gas'] = d2020_gas.groupby(['NR_PARTIDO','SG_UF'])['VR_DESPESA_CONTRATADA'].transform('sum')\n",
    "\n",
    "# A advertência é sobre má alocação de memória. vou ignorar, mas se estive em uma base ainda maior eu deveria levar em consideração\n",
    "\n",
    "d2020 = pd.merge(d2020, d2020_grafica[['NR_PARTIDO','SG_UF','total_partido_grafica']].drop_duplicates(), \n",
    "                       how = 'left', \n",
    "                       left_on = ['NR_PARTIDO','SG_UF'], \n",
    "                       right_on = ['NR_PARTIDO','SG_UF'])\n",
    "\n",
    "d2020 = pd.merge(d2020, d2020_carro_gas[['NR_PARTIDO','SG_UF','total_partido_carro_gas']].drop_duplicates(), \n",
    "                       how = 'left', \n",
    "                       left_on = ['NR_PARTIDO','SG_UF'], \n",
    "                       right_on = ['NR_PARTIDO','SG_UF'])\n",
    "\n",
    "d2020 = pd.merge(d2020, d2020_gas[['NR_PARTIDO','SG_UF','total_partido_gas']].drop_duplicates(), \n",
    "                       how = 'left', \n",
    "                       left_on = ['NR_PARTIDO','SG_UF'], \n",
    "                       right_on = ['NR_PARTIDO','SG_UF'])"
   ]
  },
  {
   "cell_type": "code",
   "execution_count": null,
   "id": "9fbdccbc",
   "metadata": {},
   "outputs": [],
   "source": [
    "d2020.head()"
   ]
  },
  {
   "cell_type": "markdown",
   "id": "fe7d99ee",
   "metadata": {},
   "source": [
    "Notem que ao olhar proporção e não valor absoluto a gente se livra de ter de deflacionar valores e ainda conseguimos melhor comparar estados grandes com pequenos."
   ]
  },
  {
   "cell_type": "code",
   "execution_count": null,
   "id": "766a3e30",
   "metadata": {},
   "outputs": [],
   "source": [
    "d2016['prop_grafica'] = d2016['total_partido_grafica'] / d2016['total_partido_uf']\n",
    "d2016['prop_carro_gas'] = d2016['total_partido_carro_gas'] / d2016['total_partido_uf']\n",
    "d2016['prop_gas'] = d2016['total_partido_gas'] / d2016['total_partido_uf']"
   ]
  },
  {
   "cell_type": "code",
   "execution_count": null,
   "id": "eb403c1f",
   "metadata": {},
   "outputs": [],
   "source": [
    "d2020['prop_grafica'] = d2020['total_partido_grafica'] / d2020['total_partido_uf']\n",
    "d2020['prop_carro_gas'] = d2020['total_partido_carro_gas'] / d2020['total_partido_uf']\n",
    "d2020['prop_gas'] = d2020['total_partido_gas'] / d2020['total_partido_uf']"
   ]
  },
  {
   "cell_type": "markdown",
   "id": "6e57e607",
   "metadata": {},
   "source": [
    "OK, hora de selecionar menos variáveis. primeiro, mudar nome de variáveis"
   ]
  },
  {
   "cell_type": "code",
   "execution_count": null,
   "id": "cbe93fcd",
   "metadata": {},
   "outputs": [],
   "source": [
    "d2016 = d2016.rename(columns={'Número candidato': 'n_partido','UF':'uf'})\n",
    "d2020 = d2020.rename(columns={'NR_PARTIDO': 'n_partido','SG_UF':'uf'})\n",
    "\n",
    "d2020_p =  d2020[['n_partido','uf','prop_grafica','prop_carro_gas','prop_gas']].drop_duplicates()\n",
    "d2020_p['ano'] = 2020\n",
    "d2016_p =  d2016[['n_partido','uf','prop_grafica','prop_carro_gas','prop_gas']].drop_duplicates()\n",
    "d2016_p['ano'] = 2016"
   ]
  },
  {
   "cell_type": "markdown",
   "id": "b9175357",
   "metadata": {},
   "source": [
    "Antes de analisar direito, vamos ver quem mais aumentou gastos em gráficas?"
   ]
  },
  {
   "cell_type": "code",
   "execution_count": null,
   "id": "550cce7a",
   "metadata": {},
   "outputs": [],
   "source": [
    "d2020_pp = pd.merge(d2020_p, d2016_p, \n",
    "                       how = 'left', \n",
    "                       on = ['n_partido','uf'])"
   ]
  },
  {
   "cell_type": "code",
   "execution_count": null,
   "id": "1e66c28f",
   "metadata": {},
   "outputs": [],
   "source": [
    "d2020_pp.head()"
   ]
  },
  {
   "cell_type": "markdown",
   "id": "2226f409",
   "metadata": {},
   "source": [
    "reparem que como os dois dataframes têm as mesmas colunas, o python assinalou o sufixo 'x' para 2020, e 'y' para 2016"
   ]
  },
  {
   "cell_type": "code",
   "execution_count": null,
   "id": "87e65531",
   "metadata": {},
   "outputs": [],
   "source": [
    "d2020_pp['dif_grafica'] = d2020_pp['prop_grafica_x'] - d2020_pp['prop_grafica_y']\n",
    "d2020_pp['dif_gas'] = d2020_pp['prop_gas_x'] - d2020_pp['prop_gas_y']\n",
    "\n",
    "d2020_pp[d2020_pp['n_partido'] == 17]"
   ]
  },
  {
   "cell_type": "code",
   "execution_count": null,
   "id": "d1940b6a",
   "metadata": {},
   "outputs": [],
   "source": [
    "import statsmodels.formula.api as smf\n",
    "mod = smf.ols(\"dif_grafica ~ C(uf) + C(n_partido)\", data = d2020_pp).fit()\n",
    "mod.summary().tables[1]"
   ]
  }
 ],
 "metadata": {
  "kernelspec": {
   "display_name": "Python 3",
   "language": "python",
   "name": "python3"
  },
  "language_info": {
   "codemirror_mode": {
    "name": "ipython",
    "version": 3
   },
   "file_extension": ".py",
   "mimetype": "text/x-python",
   "name": "python",
   "nbconvert_exporter": "python",
   "pygments_lexer": "ipython3",
   "version": "3.8.8"
  }
 },
 "nbformat": 4,
 "nbformat_minor": 5
}
